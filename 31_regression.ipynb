{
 "cells": [
  {
   "cell_type": "markdown",
   "metadata": {},
   "source": [
    "# Regression in Python\n",
    "\n",
    "A tutorial by Christoph Carl Kling, datascience ät c-kling.de\n",
    "\n",
    "GESIS - Leibniz Institute for the Social Sciences\n",
    "\n",
    "http://www.c-kling.de\n",
    "\n",
    "This work is licensed under a Creative Commons Attribution 4.0 International License:\n",
    "https://creativecommons.org/licenses/by/4.0/\n",
    "\n",
    "## Preparation and Basics\n",
    "\n",
    "Here we introduce concepts relevant for hypothesis testing, such as\n",
    "* The normal distribution class in Python\n",
    "* Maxmimum-Likelihood-Estimation\n",
    "* Confidence intervals\n",
    "* Sampling distributions\n",
    "\n",
    "### Preparation\n",
    "\n",
    "We start by telling Python to print plots in the notebook. \n",
    "Then we load the required libraries.\n",
    "Additionally to the libraries for hypothesis testing, we load the sklearn library. This library is useful for machine learning tasks such as predicting variables with linear regression. We will later look at regression in detail."
   ]
  },
  {
   "cell_type": "code",
   "execution_count": 1,
   "metadata": {
    "collapsed": false
   },
   "outputs": [],
   "source": [
    "#Plot directly in the notebook\n",
    "%matplotlib inline\n",
    "#Statistics library\n",
    "from scipy import stats as stats\n",
    "#Library for plotting\n",
    "import matplotlib.pyplot as plt\n",
    "#Basic library for data manipulation\n",
    "import numpy as np\n",
    "#Library for linear regression\n",
    "import sklearn.linear_model as sk_lm\n",
    "#Library for general data mining / machine learning\n",
    "import sklearn as skl\n",
    "#Basic library for loading and analysing data\n",
    "import pandas as pd"
   ]
  },
  {
   "cell_type": "markdown",
   "metadata": {},
   "source": [
    "### Standardisation\n",
    "\n",
    "A normally distributed variable $x$ with mean $\\mu$ and standard deviation $\\sigma$ can be standardised with \n",
    "\n",
    "$z = {x- \\mu \\over \\sigma}$\n",
    "\n",
    "after which\n",
    "\n",
    "$z \\sim N(0,1)$, a normal distribution with mean $0$ and standard deviation $1$.\n",
    "\n",
    "\n",
    "Example:"
   ]
  },
  {
   "cell_type": "code",
   "execution_count": 2,
   "metadata": {
    "collapsed": false
   },
   "outputs": [
    {
     "data": {
      "image/png": "[encoded data removed]",
      "text/plain": [
       "<matplotlib.figure.Figure at 0x7f5d25706a90>"
      ]
     },
     "metadata": {},
     "output_type": "display_data"
    }
   ],
   "source": [
    "#We create an arbitrary normal distribution\n",
    "mu = 20;\n",
    "sigma = 2;\n",
    "normal_dist = stats.norm(mu,sigma);\n",
    "\n",
    "#We sample 10.000 values x from the normal distribution\n",
    "values_x = normal_dist.rvs(size=10000);\n",
    "\n",
    "#We create 100 bins for the histogram\n",
    "bins = np.linspace(min(values_x), max(values_x), 25)\n",
    "\n",
    "plt.hist(values_x, bins);"
   ]
  },
  {
   "cell_type": "markdown",
   "metadata": {},
   "source": [
    "We move our sampled values and get new values which are distributed around $0$:\n",
    "\n",
    "$x_{\\text{new}} = x-\\hat\\mu$"
   ]
  },
  {
   "cell_type": "code",
   "execution_count": 3,
   "metadata": {
    "collapsed": false
   },
   "outputs": [
    {
     "data": {
      "image/png": "[encoded data removed]",
      "text/plain": [
       "<matplotlib.figure.Figure at 0x7f5d257062e8>"
      ]
     },
     "metadata": {},
     "output_type": "display_data"
    }
   ],
   "source": [
    "mu_hat = np.average(values_x);\n",
    "\n",
    "values_x_new = np.subtract(values_x, mu_hat);\n",
    "\n",
    "#Plot historgram of old values\n",
    "plt.hist(values_x, bins);\n",
    "\n",
    "#Plot histogram of new values\n",
    "bins_new = np.linspace(min(values_x_new), max(values_x_new), 25)\n",
    "plt.hist(values_x_new, bins_new);\n",
    "\n",
    "plt.legend([\"x\", \"x 0-centred\"]);"
   ]
  },
  {
   "cell_type": "markdown",
   "metadata": {},
   "source": [
    "We divide our new x by the estimated standard deviation and yield the standardised values:\n",
    "\n",
    "$x_{\\text{standardised}} = x_{\\text{new}} / \\hat\\sigma$"
   ]
  },
  {
   "cell_type": "code",
   "execution_count": 4,
   "metadata": {
    "collapsed": false
   },
   "outputs": [
    {
     "data": {
      "image/png": "[encoded data removed]",
      "text/plain": [
       "<matplotlib.figure.Figure at 0x7f5d21b015f8>"
      ]
     },
     "metadata": {},
     "output_type": "display_data"
    }
   ],
   "source": [
    "sigma_hat = np.std(values_x);\n",
    "\n",
    "values_x_standard = np.divide(values_x_new, sigma_hat);\n",
    "\n",
    "#Plot historgram of old values\n",
    "plt.hist(values_x, bins);\n",
    "\n",
    "#Plot histogram of new values\n",
    "bins_new = np.linspace(min(values_x_new), max(values_x_new), 25)\n",
    "plt.hist(values_x_new, bins_new);\n",
    "\n",
    "#Plot histogram of standardised values\n",
    "bins_new = np.linspace(min(values_x_standard), max(values_x_standard), 25)\n",
    "plt.hist(values_x_standard, bins_new);\n",
    "\n",
    "plt.legend([\"x\", \"x 0-centred\", \"x standard\"]);"
   ]
  },
  {
   "cell_type": "markdown",
   "metadata": {},
   "source": [
    "$x_{\\text{standardised}} = z \\sim N(0,1)$"
   ]
  },
  {
   "cell_type": "markdown",
   "metadata": {},
   "source": [
    "## Linear Regression:\n",
    "\n",
    "Linear regression is a probabilistic model. A probabilistic model explains observed data.\n",
    "\n",
    "In a linear regression, values are assumed to be normally distributed around a regression line."
   ]
  },
  {
   "cell_type": "code",
   "execution_count": 5,
   "metadata": {
    "collapsed": false,
    "scrolled": false
   },
   "outputs": [
    {
     "data": {
      "image/png": "[encoded data removed]",
      "text/plain": [
       "<matplotlib.figure.Figure at 0x7f5d21b4ee80>"
      ]
     },
     "metadata": {},
     "output_type": "display_data"
    }
   ],
   "source": [
    "#read the dataset\n",
    "df = pd.read_csv (\"data/regression.csv\", na_values=\"?\")\n",
    "\n",
    "plt.scatter(df[\"age\"],df[\"body_size\"]);\n",
    "plt.xlabel(\"age\");\n",
    "plt.ylabel(\"body size\");"
   ]
  },
  {
   "cell_type": "markdown",
   "metadata": {},
   "source": [
    "### Linear regression in Scikit\n",
    "\n",
    "The linear regression model fits a line between the datapoints. This line gives the expected y-value for a given x.\n",
    "\n",
    "ScikitLearn provides the class\n",
    "* *LinearRegression*\n",
    "with the following methods and variables:\n",
    " * *fit(X,y)*: fits the regression on data X, y. X is an array of arrays (one for each datapoint), y is the observed y value of each datapoint.\n",
    "**After fitting the regression, one can read the learned parameters and dp predictions:**\n",
    " * *intercept_*: Offset, prediction if all values are 0\n",
    " * *coef_*: Regression coefficients \n",
    " * *predict(X)* Predict y values for input X\n",
    " \n",
    "\n",
    "#### Input parameters X and y\n",
    "First we create the input parameters X and y:"
   ]
  },
  {
   "cell_type": "code",
   "execution_count": 6,
   "metadata": {
    "collapsed": false
   },
   "outputs": [
    {
     "name": "stdout",
     "output_type": "stream",
     "text": [
      "Variable age: [30 40 40 20 12 31 10]\n",
      "X: [[30], [40], [40], [20], [12], [31], [10]]\n",
      "y: [160 160 170 150 110 160 100]\n"
     ]
    }
   ],
   "source": [
    "age = df[\"age\"].values;\n",
    "\n",
    "print(\"Variable age:\",age);\n",
    "\n",
    "#We transform the input to the right format\n",
    "#Scikit expects an array of arrays -- every\n",
    "#datapoint can have multiple x values (e.g. \n",
    "#age, weight, shoe size, ...)\n",
    "X = [list(i) for i in zip(*[age])];\n",
    "\n",
    "print(\"X:\",X);\n",
    "\n",
    "#For y, we directly can use the values\n",
    "y = df[\"body_size\"].values;\n",
    "print(\"y:\", y);"
   ]
  },
  {
   "cell_type": "markdown",
   "metadata": {},
   "source": [
    "#### Practical example\n",
    "\n",
    "Now we instantiate the *LinearRegression* class and call the function *fit(X,y)* in order to estimate the linear regression parameters."
   ]
  },
  {
   "cell_type": "code",
   "execution_count": 7,
   "metadata": {
    "collapsed": false
   },
   "outputs": [],
   "source": [
    "reg = sk_lm.LinearRegression();\n",
    "reg.fit(X,y);"
   ]
  },
  {
   "cell_type": "markdown",
   "metadata": {},
   "source": [
    "We can print the learned parameters:"
   ]
  },
  {
   "cell_type": "code",
   "execution_count": 8,
   "metadata": {
    "collapsed": false
   },
   "outputs": [
    {
     "name": "stdout",
     "output_type": "stream",
     "text": [
      "beta0 = 91.0347502327 ; [beta1] = [ 2.03692212]\n"
     ]
    }
   ],
   "source": [
    "intercept = reg.intercept_;\n",
    "coefficients = reg.coef_;\n",
    "\n",
    "print(\"beta0 =\", intercept, \";\", \"[beta1] =\", coefficients);"
   ]
  },
  {
   "cell_type": "markdown",
   "metadata": {},
   "source": [
    "#### Predicting new data points\n",
    "\n",
    "Using the regression, we can predict new datapoints, which we can use to visualise the regression line."
   ]
  },
  {
   "cell_type": "code",
   "execution_count": 9,
   "metadata": {
    "collapsed": false
   },
   "outputs": [
    {
     "data": {
      "image/png": "[encoded data removed]",
      "text/plain": [
       "<matplotlib.figure.Figure at 0x7f5d2199d0f0>"
      ]
     },
     "metadata": {},
     "output_type": "display_data"
    }
   ],
   "source": [
    "#Plot datapoints\n",
    "plt.scatter(df[\"age\"],df[\"body_size\"]);\n",
    "\n",
    "#Create n datapoints between start and end\n",
    "#Since all the datapoints are on a line, \n",
    "#we could just plot the first and last point and connect them\n",
    "#but I predict multiple points which also works for other models.\n",
    "start = min(X)[0]-10;\n",
    "end = max(X)[0]+10;\n",
    "test_x = np.arange(start,end,0.1)[:];\n",
    "\n",
    "#Bring the datapoints to the input format of the regression\n",
    "test_x = [list(i) for i in zip(*[test_x])];\n",
    "\n",
    "test_y=reg.predict(test_x);\n",
    "\n",
    "plt.plot(test_x,test_y, color='red');\n",
    "\n",
    "plt.legend([\"regression line\",\"observations\"],loc=2);\n",
    "plt.xlabel(\"X (input)\");\n",
    "plt.ylabel(\"y (output)\");"
   ]
  },
  {
   "cell_type": "markdown",
   "metadata": {},
   "source": [
    "## Scaling regression coefficients:\n",
    "\n",
    "The coefficients of a regression change, if we move the input-variables along the x-axis or if we scale X / y.\n",
    "\n",
    "**Example 1:** We measure the age in days: $x_{\\text{age in days}} = x_{\\text{age}} * 356$"
   ]
  },
  {
   "cell_type": "code",
   "execution_count": 10,
   "metadata": {
    "collapsed": false
   },
   "outputs": [
    {
     "name": "stdout",
     "output_type": "stream",
     "text": [
      "Old regression parameters: beta0 = 91.0347502327 ; [beta1] = [ 2.03692212]\n",
      "New regression parameters: beta0 = 91.0347502327 ; [beta1] = [ 0.00558061]\n"
     ]
    },
    {
     "data": {
      "image/png": "[encoded data removed]",
      "text/plain": [
       "<matplotlib.figure.Figure at 0x7f5d2192a978>"
      ]
     },
     "metadata": {},
     "output_type": "display_data"
    }
   ],
   "source": [
    "print(\"Old regression parameters: beta0 =\", intercept, \";\", \"[beta1] =\", coefficients);\n",
    "\n",
    "#Use age in days instead of years\n",
    "df[\"age_in_days\"] = np.multiply(df[\"age\"],365);\n",
    "\n",
    "variables_2 = [df[\"age_in_days\"]];\n",
    "X_2 = [list(i) for i in zip(*variables_2)];\n",
    "\n",
    "reg_2 = sk_lm.LinearRegression();\n",
    "reg_2.fit(X_2,y);\n",
    "\n",
    "intercept_2 = reg_2.intercept_;\n",
    "coefficients_2 = reg_2.coef_;\n",
    "\n",
    "print(\"New regression parameters: beta0 =\", intercept_2, \";\", \"[beta1] =\", coefficients_2);\n",
    "\n",
    "#Plot datapoints\n",
    "plt.scatter(X_2,df[\"body_size\"]);\n",
    "\n",
    "#Create n datapoints between start and end\n",
    "#Since all the datapoints are on a line, \n",
    "#we could just plot the first and last point and connect them\n",
    "#but I predict multiple points which also works for other models.\n",
    "start_2 = min(X_2)[0]-10*365;\n",
    "end_2 = max(X_2)[0]+10*365;\n",
    "test_x_2 = np.arange(start_2,end_2,0.1)[:];\n",
    "\n",
    "#Bring the datapoints to the input format of the regression\n",
    "test_x_2=test_x_2.reshape(-1,1)\n",
    "\n",
    "#Predict and plot regression\n",
    "test_y_2=reg_2.predict(test_x_2);\n",
    "\n",
    "plt.plot(test_x_2,test_y_2, color='red');\n",
    "\n",
    "plt.legend([\"regression line\",\"observations\"],loc=2);\n",
    "plt.xlabel(\"X (input * 365)\");\n",
    "plt.ylabel(\"y (output)\");"
   ]
  },
  {
   "cell_type": "markdown",
   "metadata": {},
   "source": [
    "**Example 2:** We measure the body size in m: $y_{\\text{body size cm}} = y_{\\text{body size}} / 100$"
   ]
  },
  {
   "cell_type": "code",
   "execution_count": 11,
   "metadata": {
    "collapsed": false
   },
   "outputs": [
    {
     "name": "stdout",
     "output_type": "stream",
     "text": [
      "Old regression parameters: beta0 = 91.0347502327 ; [beta1] = [ 2.03692212]\n",
      "New regression parameters: beta0 = 0.910347502327 ; [beta1] = [ 0.02036922]\n"
     ]
    },
    {
     "data": {
      "image/png": "[encoded data removed]",
      "text/plain": [
       "<matplotlib.figure.Figure at 0x7f5d219535c0>"
      ]
     },
     "metadata": {},
     "output_type": "display_data"
    }
   ],
   "source": [
    "#Use body size in m instead of cm\n",
    "df[\"body_size_m\"] = np.divide(df[\"body_size\"],100);\n",
    "\n",
    "y_3 = df[\"body_size_m\"];\n",
    "\n",
    "reg_3 = sk_lm.LinearRegression();\n",
    "reg_3.fit(X,y_3);\n",
    "\n",
    "intercept_3 = reg_3.intercept_;\n",
    "coefficients_3 = reg_3.coef_;\n",
    "\n",
    "print(\"Old regression parameters: beta0 =\", intercept, \";\", \"[beta1] =\", coefficients);\n",
    "print(\"New regression parameters: beta0 =\", intercept_3, \";\", \"[beta1] =\", coefficients_3);\n",
    "\n",
    "#Plot datapoints\n",
    "plt.scatter(df[\"age\"],y_3);\n",
    "\n",
    "#Predict and plot regression\n",
    "test_y_3=reg_3.predict(test_x);\n",
    "\n",
    "plt.plot(test_x,test_y_3, color='red');\n",
    "\n",
    "plt.legend([\"regression line\",\"observations\"],loc=2);\n",
    "plt.xlabel(\"X (input)\");\n",
    "plt.ylabel(\"y (output $\\cdot 1/100$)\");"
   ]
  },
  {
   "cell_type": "markdown",
   "metadata": {},
   "source": [
    "**Example 3:**We give the age in 10 years instead of the current age: $x_{\\text{age in 10 years}} = x_{\\text{age}} + 10$"
   ]
  },
  {
   "cell_type": "code",
   "execution_count": 12,
   "metadata": {
    "collapsed": false
   },
   "outputs": [
    {
     "name": "stdout",
     "output_type": "stream",
     "text": [
      "Old regression parameters: beta0 = 91.0347502327 ; [beta1] = [ 2.03692212]\n",
      "New regression parameters: beta0 = 70.6655290102 ; [beta1] = [ 2.03692212]\n"
     ]
    },
    {
     "data": {
      "image/png": "[encoded data removed]",
      "text/plain": [
       "<matplotlib.figure.Figure at 0x7f5d21875a20>"
      ]
     },
     "metadata": {},
     "output_type": "display_data"
    }
   ],
   "source": [
    "#Shift age by 10 years\n",
    "df[\"age_in_10_years\"] = np.add(df[\"age\"],10);\n",
    "\n",
    "variables_4 = [df[\"age_in_10_years\"]];\n",
    "X_4 = [list(i) for i in zip(*variables_4)];\n",
    "\n",
    "reg_4 = sk_lm.LinearRegression();\n",
    "reg_4.fit(X_4,y);\n",
    "\n",
    "intercept_4 = reg_4.intercept_;\n",
    "coefficients_4 = reg_4.coef_;\n",
    "\n",
    "print(\"Old regression parameters: beta0 =\", intercept, \";\", \"[beta1] =\", coefficients);\n",
    "print(\"New regression parameters: beta0 =\", intercept_4, \";\", \"[beta1] =\", coefficients_4);\n",
    "\n",
    "#Plot datapoints\n",
    "plt.scatter(X_4,df[\"body_size\"]);\n",
    "\n",
    "#Create n datapoints between start and end\n",
    "#Since all the datapoints are on a line, \n",
    "#we could just plot the first and last point and connect them\n",
    "#but I predict multiple points which also works for other models.\n",
    "start_4 = min(X_4)[0]-10;\n",
    "end_4 = max(X_4)[0]+10;\n",
    "test_x_4 = np.arange(start_4,end_4,0.1)[:];\n",
    "\n",
    "#Bring the datapoints to the input format of the regression\n",
    "test_x_4=test_x_4.reshape(-1,1)\n",
    "\n",
    "#Predict and plot regression\n",
    "test_y_4=reg_4.predict(test_x_4);\n",
    "\n",
    "plt.plot(test_x_4,test_y_4, color='red');\n",
    "\n",
    "plt.legend([\"regression line\",\"observations\"],loc=2);\n",
    "plt.xlabel(\"X (input + 10)\");\n",
    "plt.ylabel(\"y (output)\");"
   ]
  },
  {
   "cell_type": "markdown",
   "metadata": {},
   "source": [
    "## Standardised coefficients:\n",
    "\n",
    "Depending on how we scale or move $X$ and $y$, we get different regression parameters. In order to get coefficients which can be compared between different models, the input parameters can be *standardised*.\n",
    "\n",
    "Standardisation means that we make our variables standard-normal – we subtract the mean and divide by the standard deviation:\n",
    "\n",
    "$x_{\\text{new}} = {x- \\hat\\mu \\over \\hat\\sigma}$.\n",
    "\n",
    "ScikitLearn provides a *preprocessing* class which comes with the function\n",
    "* scale() \n",
    "\n",
    "which standardises the input variables."
   ]
  },
  {
   "cell_type": "code",
   "execution_count": 13,
   "metadata": {
    "collapsed": false
   },
   "outputs": [
    {
     "data": {
      "image/png": "[encoded data removed]",
      "text/plain": [
       "<matplotlib.figure.Figure at 0x7f5d2156be10>"
      ]
     },
     "metadata": {},
     "output_type": "display_data"
    }
   ],
   "source": [
    "#First, we convert our input variables to floating point numbers\n",
    "#X has to become a numpy array first.\n",
    "X = np.array(X);\n",
    "X = X.astype(np.float)\n",
    "y = y.astype(np.float)\n",
    "\n",
    "#Normalise x and y\n",
    "std_X = skl.preprocessing.scale(X);\n",
    "std_y = skl.preprocessing.scale(y);\n",
    "\n",
    "plt.scatter(std_X,std_y);"
   ]
  },
  {
   "cell_type": "code",
   "execution_count": 14,
   "metadata": {
    "collapsed": false
   },
   "outputs": [
    {
     "name": "stdout",
     "output_type": "stream",
     "text": [
      "Old regression parameters: beta0 = 91.0347502327 ; [beta1] = [ 2.03692212]\n",
      "New regression parameters: beta0 = 1.6676751161e-16 ; [beta1] = [ 0.91420709]\n"
     ]
    },
    {
     "data": {
      "image/png": "[encoded data removed]",
      "text/plain": [
       "<matplotlib.figure.Figure at 0x7f5d21558ac8>"
      ]
     },
     "metadata": {},
     "output_type": "display_data"
    }
   ],
   "source": [
    "reg_std = sk_lm.LinearRegression();\n",
    "reg_std.fit(std_X,std_y);\n",
    "\n",
    "intercept_std = reg_std.intercept_;\n",
    "coefficients_std = reg_std.coef_;\n",
    "\n",
    "print(\"Old regression parameters: beta0 =\", intercept, \";\", \"[beta1] =\", coefficients);\n",
    "print(\"New regression parameters: beta0 =\", intercept_std, \";\", \"[beta1] =\", coefficients_std);\n",
    "\n",
    "#Plot datapoints\n",
    "plt.scatter(std_X,std_y);\n",
    "\n",
    "#Create n datapoints between start and end\n",
    "#Since all the datapoints are on a line, \n",
    "#we could just plot the first and last point and connect them\n",
    "#but I predict multiple points which also works for other models.\n",
    "start_std = min(std_X)[0]-1;\n",
    "end_std = max(std_X)[0]+1;\n",
    "test_x_std = np.arange(start_std,end_std,0.1)[:];\n",
    "\n",
    "#Bring the datapoints to the input format of the regression\n",
    "test_x_std=test_x_std.reshape(-1,1)\n",
    "\n",
    "#Predict and plot regression\n",
    "test_y_std=reg_std.predict(test_x_std);\n",
    "\n",
    "plt.plot(test_x_std,test_y_std, color='red');\n",
    "\n",
    "plt.legend([\"regression line\",\"observations\"],loc=2);\n",
    "plt.xlabel(\"X (standardised input)\");\n",
    "plt.ylabel(\"y (standardised output)\");"
   ]
  },
  {
   "cell_type": "markdown",
   "metadata": {},
   "source": [
    "## Parameter significance:\n",
    "\n",
    "The estimates for the regression coefficients are not precise. First, we standardise our regression coefficients. Then we can calculate a t-statistic for each estimated regression coefficient $\\hat\\beta_i$:\n",
    "\n",
    "$t_i = \\hat\\beta_i \\cdot \\sqrt{(n-k-1)} \\bigg/ \\sqrt{\\text{sqerr} \\cdot \\text{sqx}^{-1}_{i,i}} $\n",
    "\n",
    "with\n",
    "\n",
    "$\\text{sqerr} =\\sum_{i=1}^n \\left( y_i - \\hat y_i \\right)^2$ being the squared prediction error and\n",
    "\n",
    "$\\text{sqx}^{-1} = (X'X)^{-1}$.\n",
    "\n",
    "The t statistic follows a t-distribution with parameter $\\text{df} = (n-k-1)$ degrees of freedom.\n",
    "\n",
    "where $n$ is the number of observations and $k$ is the number of input variables."
   ]
  },
  {
   "cell_type": "code",
   "execution_count": 15,
   "metadata": {
    "collapsed": false
   },
   "outputs": [
    {
     "name": "stdout",
     "output_type": "stream",
     "text": [
      "coefficient     value   p-value  t-statistic\n",
      "    beta 1  0.914207  0.003952     5.044399\n"
     ]
    }
   ],
   "source": [
    "def squared_error (regression, X, y):\n",
    "    sqe = 0;\n",
    "    for i in range(0,len(X)):\n",
    "        y_hat = regression.predict([X[i]]);\n",
    "        sq_error = (y[i]-y_hat)**2;\n",
    "        sqe = sqe + sq_error;    \n",
    "    return sqe;\n",
    "\n",
    "#prints names and column contents for a table\n",
    "def print_table (names,columns):\n",
    "    df = pd.DataFrame();\n",
    "    for i in range(0,len(names)):\n",
    "        df[names[i]]=columns[i];\n",
    "    print(df.to_string(index=False))\n",
    "\n",
    "def significance_reg(reg,X,y):\n",
    "\n",
    "    n = len(y);\n",
    "    k = len(X[0])\n",
    "    X = np.array(X);    \n",
    "    sq_err = squared_error(reg,X,y);  \n",
    "    \n",
    "    #degrees of freedom for t-statistics\n",
    "    df = n-k-1;   \n",
    "    \n",
    "    sq_err_by_sqx = sq_err * (np.linalg.inv(np.dot(X.T,X)).diagonal());\n",
    "    t_bi = reg.coef_ * np.sqrt((n-k-1) /  sq_err_by_sqx );     \n",
    "    \n",
    "    #two-sided test\n",
    "    p_values_bi = (1 - stats.t.cdf(abs(t_bi),df))*2;\n",
    "    \n",
    "    #here we print the statistics\n",
    "    \n",
    "    #first we define the shown coefficient names\n",
    "    coef_names = [];\n",
    "    for i in range(0,k):\n",
    "        coef_names.append(\"beta %i\"%(i+1));\n",
    "    \n",
    "    #now we give the rest of the values to be displayed\n",
    "    table_values = [coef_names,reg.coef_,p_values_bi,t_bi]\n",
    "    \n",
    "    #print table using the function defined before\n",
    "    print_table([\"coefficient\",\"value\",\"p-value\", \"t-statistic\"],table_values);\n",
    "\n",
    "significance_reg(reg_std,std_X,std_y);"
   ]
  },
  {
   "cell_type": "markdown",
   "metadata": {},
   "source": [
    "## Problems:\n",
    "\n",
    "### Overfitting\n",
    "\n",
    "Learning a model based on all parameters makes our model very complex. At some point, the complexity is not justified by data anymore. This means, the model fits better and better for the training data if we use more parameters, but for new data we will be worse and worse. This phenomenon is called *overfitting*.\n",
    "\n",
    "### Forward selection\n",
    "A popular algorithm which reduces the number of input parameters to prevent overfitting is called *forward selection*:\n",
    "* We order input variables by their ability to predict the target variable $y$. \n",
    "* Then we check if each variable is improving a parameter called *Mallows CP*. \n",
    "* Mallows CP calculates how well our regression is predicting datapoints, but punishes for the number of input parameters. \n",
    "* If Mallows CP is not improving for additional variables, we stop and return the input matrix."
   ]
  },
  {
   "cell_type": "code",
   "execution_count": 16,
   "metadata": {
    "collapsed": false
   },
   "outputs": [],
   "source": [
    "def mse (regression, X, y):\n",
    "    mean_sq_err = squared_error(regression, X, y) / len(X);\n",
    "    return mean_sq_err;\n",
    "\n",
    "def mcp (mse, regression, X, y):\n",
    "    P = len(X[0]);\n",
    "    N = len(X);\n",
    "    sq_err = squared_error(regression,X, y);\n",
    "    mcp = (sq_err / mse) - N + 2*P;\n",
    "    return mcp[0];\n",
    "\n",
    "#returns the indices of the variables of X which we keep according to forward selection\n",
    "def forward_selection(X,y):\n",
    "    reg = sk_lm.LinearRegression();\n",
    "    reg.fit(X,y);\n",
    "    #The mean squared error of the full model is an estimator of the\n",
    "    #variance of the full model\n",
    "    mse_full = mse(reg,X,y);\n",
    "    print(\"\\nMean squared error full model:\", mse_full,\"\\n\");\n",
    "\n",
    "    mcps = [];\n",
    "    X = np.array(X);\n",
    "    \n",
    "    #number of input variables\n",
    "    num_variables = len(X[0]);\n",
    "    \n",
    "    #We keep track of the indices of X which we did not use yet for our regression model\n",
    "    #In the beginning, this is a list of all indices of X, and we remove the indices\n",
    "    #by iteratively selecting the X_i which reduces the squared error most\n",
    "    remaining_indices = list(range(0,num_variables));\n",
    "    #At the same time, we keep track of the order of the indices of the best X_i\n",
    "    #(which reduced the squared error most)\n",
    "    max_indices = [];\n",
    "    \n",
    "    print(\"Starting foward selection...\");\n",
    "    \n",
    "    for j in range(0, num_variables):\n",
    "        min_error = 0;\n",
    "        max_index = 0;\n",
    "        max_mcp = 0;\n",
    "        #we iterate through the remaining indices\n",
    "        for k in range(0, len(remaining_indices)):\n",
    "            i = remaining_indices[k];\n",
    "            #clone max_indices before adding i\n",
    "            test_max_indices = list(max_indices);\n",
    "            #now add the current index to use it for regression\n",
    "            test_max_indices.append(i);\n",
    "            #we now have an array with the indices we want to use for the regression\n",
    "            #and make it a numpy array, which allows us to select these columns from X\n",
    "            test_indices = np.array(test_max_indices);\n",
    "            #Now we select the columns with the test_indices from X\n",
    "            test_X = X[:, test_indices];\n",
    "            #we train the regression\n",
    "            test_reg = sk_lm.LinearRegression();\n",
    "            test_reg.fit(test_X,y);\n",
    "            #We calculate the squared error and Mallows CP\n",
    "            test_se = squared_error(test_reg, test_X, y);\n",
    "            test_mcp = mcp(mse_full, test_reg, test_X, y);       \n",
    "            #The first index is the best seen so far (since it's the first)\n",
    "            #or the index which has a lower error than min_error\n",
    "            if (k == 0 | (test_se < min_error)):\n",
    "                min_error = test_se;\n",
    "                max_index = i;\n",
    "                max_mcp = test_mcp;\n",
    "        #now we found the index which minimised the error\n",
    "        #we add it to the list of best indices\n",
    "        max_indices.append(max_index);\n",
    "        #we remove it from the remaining indices\n",
    "        remaining_indices.remove(max_index);\n",
    "        #we add the calculated Mallow CP of this model\n",
    "        mcps.append(max_mcp);\n",
    "        print(\"best indices at iteration \", (j+1), \":\", max_indices);\n",
    "\n",
    "    print(\"...done.\\n\")\n",
    "    #We now have a list of Mallows CP for each step\n",
    "    print(\"Mallow's CPs of best indices:\", mcps);\n",
    "\n",
    "    #we find the index of the model with the minimum Mallows CP\n",
    "    miniumum_mcp_index = np.array(mcps).argmin();\n",
    "\n",
    "    #we use all indices till the one with the minimum Mallows CP\n",
    "    used_X = max_indices[0:miniumum_mcp_index+1];\n",
    "\n",
    "        #We now have a list of the respective best indices of each step\n",
    "    print(\"X column indices found by forward selection:\", used_X,\"\\n\");\n",
    "    \n",
    "    #now we know which X we keep\n",
    "    optimal_X = X[:, used_X];\n",
    "    \n",
    "    #we return the optimal variable indices\n",
    "    return used_X;"
   ]
  },
  {
   "cell_type": "markdown",
   "metadata": {},
   "source": [
    "#### Example forward selection\n",
    "\n",
    "We use not only the age, but also the gender information. Forward selection helps to decide, if the gender (0 or 1) is really improving our prediction, or if leads to overfitting for the given data."
   ]
  },
  {
   "cell_type": "code",
   "execution_count": 17,
   "metadata": {
    "collapsed": false
   },
   "outputs": [
    {
     "name": "stdout",
     "output_type": "stream",
     "text": [
      "X: [[30, 0], [40, 0], [40, 0], [20, 0], [12, 1], [31, 1], [10, 1]]\n",
      "\n",
      "Mean squared error full model: [ 89.9798546] \n",
      "\n",
      "Starting foward selection...\n",
      "best indices at iteration  1 : [0]\n",
      "best indices at iteration  2 : [0, 1]\n",
      "...done.\n",
      "\n",
      "Mallow's CPs of best indices: [3.3434747828586051, 4.0000000000000009]\n",
      "X column indices found by forward selection: [0] \n",
      "\n",
      "The new X is:\n",
      "[[30]\n",
      " [40]\n",
      " [40]\n",
      " [20]\n",
      " [12]\n",
      " [31]\n",
      " [10]]\n"
     ]
    }
   ],
   "source": [
    "# Add gender to our input variables\n",
    "variables = [df[\"age\"],df[\"gender\"]];\n",
    "\n",
    "#We transform the input to the right format\n",
    "X_all = [list(i) for i in zip(*variables)];\n",
    "\n",
    "print(\"X:\",X_all);\n",
    "#now we can find the best X for our regression\n",
    "#according to forward selection\n",
    "fs_indices = forward_selection(X_all,y);\n",
    "\n",
    "print(\"The new X is:\");\n",
    "print(np.array(X_all)[:,fs_indices]);"
   ]
  },
  {
   "cell_type": "markdown",
   "metadata": {},
   "source": [
    "#### Effect of forward selection\n",
    "Forward selection will make our regression fit worse on our training data, but better on test data. We can show this looking at the prediction errow:"
   ]
  },
  {
   "cell_type": "code",
   "execution_count": 18,
   "metadata": {
    "collapsed": false
   },
   "outputs": [
    {
     "name": "stdout",
     "output_type": "stream",
     "text": [
      "Mean squared error on training data, full input variables:  [ 89.9798546]\n",
      "Mean squared error on training data, selected input variables:  [ 107.24923541]\n"
     ]
    }
   ],
   "source": [
    "reg = sk_lm.LinearRegression();\n",
    "reg.fit(np.array(X_all),y);\n",
    "\n",
    "reg_fs = sk_lm.LinearRegression();\n",
    "reg_fs.fit(np.array(X_all)[:,fs_indices],y);\n",
    "\n",
    "# The mean squared errors\n",
    "print(\"Mean squared error on training data, full input variables: \", mse(reg,X_all,y));\n",
    "print(\"Mean squared error on training data, selected input variables: \", mse(reg_fs,np.array(X_all)[:,fs_indices],y));"
   ]
  },
  {
   "cell_type": "markdown",
   "metadata": {},
   "source": [
    "The positive effect on predicting test data will be demonstrated in the following on a larger dataset, where we split our data in training and test data."
   ]
  },
  {
   "cell_type": "markdown",
   "metadata": {},
   "source": [
    "## The housing dataset:\n",
    "\n",
    "The housing dataset contains features and selling prices of 28 houses. The data consists of:\n",
    "* the local selling prices, in hundreds of dollars;\n",
    "* the number of bathrooms;\n",
    "* the area of the site in thousands of square feet;\n",
    "* the size of the living space in thousands of square feet;\n",
    "* the number of garages;\n",
    "* the number of rooms;\n",
    "* the number of bedrooms;\n",
    "* the age in years;\n",
    "* construction type (type 1 to type 4)\n",
    "* architecture type (type 1 to type 3)\n",
    "* the information if the house has a fire place\n",
    "* selling price \n",
    "\n",
    "We load the data in a DataFrame:"
   ]
  },
  {
   "cell_type": "code",
   "execution_count": 19,
   "metadata": {
    "collapsed": false
   },
   "outputs": [
    {
     "name": "stdout",
     "output_type": "stream",
     "text": [
      "bathrooms   area  living_space  garages  rooms  bedrooms  age  construction_type  architecture_type  fire_place  price\n",
      "                                                                                                                      \n",
      "      1.0  3.472         0.998      1.0      7         4   42                  3                  1           0   25.9\n",
      "      1.0  3.531         1.500      2.0      7         4   62                  1                  1           0   29.5\n",
      "      1.0  2.275         1.175      1.0      6         3   40                  2                  1           0   27.9\n",
      "      1.0  4.050         1.232      1.0      6         3   54                  4                  1           0   25.9\n",
      "      1.0  4.455         1.121      1.0      6         3   42                  3                  1           0   29.9\n"
     ]
    }
   ],
   "source": [
    "df_house_orig = pd.DataFrame();\n",
    "df_house_orig = df_house_orig.from_csv(\"data/houses.csv\");\n",
    "\n",
    "n = len(df_house_orig);\n",
    "\n",
    "#print fist rows\n",
    "print(df_house_orig.head().to_string(index=False));"
   ]
  },
  {
   "cell_type": "markdown",
   "metadata": {},
   "source": [
    "#### Categorical variables\n",
    "\n",
    "A linear regression can have binary input variables. Categorical variables have to be binarised. We tell the *DataFrame* that the categorical variables are strings (i.e. no numbers) and then use the \n",
    "* *get_dummies()*\n",
    "function of pandas to convert any categorical variable to binary values. "
   ]
  },
  {
   "cell_type": "code",
   "execution_count": 20,
   "metadata": {
    "collapsed": false
   },
   "outputs": [
    {
     "name": "stdout",
     "output_type": "stream",
     "text": [
      "bathrooms   area  living_space  garages  rooms  bedrooms  age  fire_place  price  construction_type_2  construction_type_3  construction_type_4  architecture_type_2  architecture_type_3\n",
      "                                                                                                                                                                                         \n",
      "      1.0  3.472         0.998      1.0      7         4   42           0   25.9                    0                    1                    0                    0                    0\n",
      "      1.0  3.531         1.500      2.0      7         4   62           0   29.5                    0                    0                    0                    0                    0\n",
      "      1.0  2.275         1.175      1.0      6         3   40           0   27.9                    1                    0                    0                    0                    0\n",
      "      1.0  4.050         1.232      1.0      6         3   54           0   25.9                    0                    0                    1                    0                    0\n",
      "      1.0  4.455         1.121      1.0      6         3   42           0   29.9                    0                    1                    0                    0                    0\n"
     ]
    }
   ],
   "source": [
    "# Tell that architecture_type and construction_type are strings\n",
    "df_house_orig[\"architecture_type\"]= df_house_orig[\"architecture_type\"].astype(str);\n",
    "df_house_orig[\"construction_type\"]= df_house_orig[\"construction_type\"].astype(str);\n",
    "\n",
    "# Binarise all string variables with the get_dummies function\n",
    "# We drop the first dummy, i.e. if everything is 0 we know that\n",
    "# the class is the first class.\n",
    "df_house = pd.get_dummies(df_house_orig, drop_first=True);\n",
    "\n",
    "#print fist rows\n",
    "print(df_house.head().to_string(index=False));"
   ]
  },
  {
   "cell_type": "code",
   "execution_count": 21,
   "metadata": {
    "collapsed": false,
    "scrolled": true
   },
   "outputs": [
    {
     "data": {
      "image/png": "[encoded data removed]",
      "text/plain": [
       "<matplotlib.figure.Figure at 0x7f5d219f9588>"
      ]
     },
     "metadata": {},
     "output_type": "display_data"
    },
    {
     "name": "stdout",
     "output_type": "stream",
     "text": [
      "                     bathrooms      area  living_space   garages     rooms  \\\n",
      "bathrooms             1.000000  0.583495      0.894029  0.399777  0.757478   \n",
      "area                  0.583495  1.000000      0.680651  0.175567  0.564698   \n",
      "living_space          0.894029  0.680651      1.000000  0.363548  0.840513   \n",
      "garages               0.399777  0.175567      0.363548  1.000000  0.566325   \n",
      "rooms                 0.757478  0.564698      0.840513  0.566325  1.000000   \n",
      "bedrooms              0.726375  0.459350      0.791281  0.539703  0.924445   \n",
      "age                  -0.200938 -0.382963     -0.177487 -0.057658  0.011342   \n",
      "fire_place            0.481197  0.376435      0.371852  0.291581  0.396835   \n",
      "construction_type_2   0.083098 -0.095315      0.040437 -0.004845  0.071172   \n",
      "construction_type_3  -0.141732 -0.218501     -0.232922  0.022724 -0.064198   \n",
      "construction_type_4   0.225494  0.046477      0.164547  0.016069  0.090789   \n",
      "architecture_type_2  -0.180540 -0.140040     -0.127950 -0.146662 -0.287850   \n",
      "architecture_type_3  -0.180540  0.167015     -0.004990  0.177539  0.078505   \n",
      "\n",
      "                     bedrooms       age  fire_place  construction_type_2  \\\n",
      "bathrooms            0.726375 -0.200938    0.481197             0.083098   \n",
      "area                 0.459350 -0.382963    0.376435            -0.095315   \n",
      "living_space         0.791281 -0.177487    0.371852             0.040437   \n",
      "garages              0.539703 -0.057658    0.291581            -0.004845   \n",
      "rooms                0.924445  0.011342    0.396835             0.071172   \n",
      "bedrooms             1.000000  0.106928    0.265366             0.035533   \n",
      "age                  0.106928  1.000000    0.090787             0.128764   \n",
      "fire_place           0.265366  0.090787    1.000000             0.013312   \n",
      "construction_type_2  0.035533  0.128764    0.013312             1.000000   \n",
      "construction_type_3 -0.020833 -0.062330   -0.062439            -0.213201   \n",
      "construction_type_4  0.117851  0.150459    0.132453            -0.301511   \n",
      "architecture_type_2 -0.311376 -0.129225   -0.190885            -0.144841   \n",
      "architecture_type_3 -0.113228 -0.476745   -0.190885            -0.144841   \n",
      "\n",
      "                     construction_type_3  construction_type_4  \\\n",
      "bathrooms                      -0.141732             0.225494   \n",
      "area                           -0.218501             0.046477   \n",
      "living_space                   -0.232922             0.164547   \n",
      "garages                         0.022724             0.016069   \n",
      "rooms                          -0.064198             0.090789   \n",
      "bedrooms                       -0.020833             0.117851   \n",
      "age                            -0.062330             0.150459   \n",
      "fire_place                     -0.062439             0.132453   \n",
      "construction_type_2            -0.213201            -0.301511   \n",
      "construction_type_3             1.000000            -0.235702   \n",
      "construction_type_4            -0.235702             1.000000   \n",
      "architecture_type_2            -0.113228            -0.160128   \n",
      "architecture_type_3             0.283069            -0.160128   \n",
      "\n",
      "                     architecture_type_2  architecture_type_3  \n",
      "bathrooms                      -0.180540            -0.180540  \n",
      "area                           -0.140040             0.167015  \n",
      "living_space                   -0.127950            -0.004990  \n",
      "garages                        -0.146662             0.177539  \n",
      "rooms                          -0.287850             0.078505  \n",
      "bedrooms                       -0.311376            -0.113228  \n",
      "age                            -0.129225            -0.476745  \n",
      "fire_place                     -0.190885            -0.190885  \n",
      "construction_type_2            -0.144841            -0.144841  \n",
      "construction_type_3            -0.113228             0.283069  \n",
      "construction_type_4            -0.160128            -0.160128  \n",
      "architecture_type_2             1.000000            -0.076923  \n",
      "architecture_type_3            -0.076923             1.000000  \n"
     ]
    }
   ],
   "source": [
    "X_house = df_house.drop(\"price\", axis=1);\n",
    "y_house = df_house[\"price\"];\n",
    "\n",
    "corr_matrix=X_house.corr();\n",
    "plt.imshow(corr_matrix,interpolation='none',clim=(-1, 1));\n",
    "plt.colorbar();\n",
    "plt.show();\n",
    "\n",
    "print(corr_matrix)"
   ]
  },
  {
   "cell_type": "code",
   "execution_count": 22,
   "metadata": {
    "collapsed": false
   },
   "outputs": [
    {
     "data": {
      "image/png": "[encoded data removed]",
      "text/plain": [
       "<matplotlib.figure.Figure at 0x7f5d2188a5c0>"
      ]
     },
     "metadata": {},
     "output_type": "display_data"
    }
   ],
   "source": [
    "#remove all but one column from sets of strongly correlated columns\n",
    "X_house_reg = X_house.drop(\"bedrooms\", axis=1);\n",
    "\n",
    "#new correlation matrix\n",
    "corr_matrix_2=X_house_reg.corr();\n",
    "plt.imshow(corr_matrix_2,interpolation='none',clim=(-1, 1));\n",
    "plt.colorbar();\n",
    "plt.show();"
   ]
  },
  {
   "cell_type": "code",
   "execution_count": 40,
   "metadata": {
    "collapsed": false
   },
   "outputs": [],
   "source": [
    "# Split the data into training/testing sets\n",
    "test_size = 10;\n",
    "\n",
    "X_house_reg_train = X_house_reg.values[:-test_size];\n",
    "X_house_reg_test = X_house_reg.values[-test_size:];\n",
    "\n",
    "# Split the targets into training/testing sets\n",
    "y_house_train = y_house.values[:-test_size];\n",
    "y_house_test = y_house.values[-test_size:];\n",
    "\n",
    "# Create linear regression object\n",
    "reg_house = sk_lm.LinearRegression()\n",
    "\n",
    "# Train the model using the training sets\n",
    "reg_house.fit(X_house_reg_train, y_house_train);"
   ]
  },
  {
   "cell_type": "code",
   "execution_count": 41,
   "metadata": {
    "collapsed": false
   },
   "outputs": [
    {
     "data": {
      "image/png": "[encoded data removed]",
      "text/plain": [
       "<matplotlib.figure.Figure at 0x7f5d214d4860>"
      ]
     },
     "metadata": {},
     "output_type": "display_data"
    },
    {
     "name": "stdout",
     "output_type": "stream",
     "text": [
      "Mean squared error:  [ 65.19481876]\n"
     ]
    }
   ],
   "source": [
    "# Get column names as list\n",
    "column_names = list(X_house_reg.columns.values);\n",
    "x_pos = range(2,len(column_names)+2)\n",
    "\n",
    "# Print bars\n",
    "plt.bar(x_pos,reg_house.coef_, align='center');\n",
    "plt.xticks(x_pos,column_names,rotation='vertical');\n",
    "plt.show();\n",
    "\n",
    "# The mean squared error\n",
    "print(\"Mean squared error: \", mse(reg_house,X_house_reg_test,y_house_test));"
   ]
  },
  {
   "cell_type": "code",
   "execution_count": 25,
   "metadata": {
    "collapsed": false
   },
   "outputs": [
    {
     "name": "stdout",
     "output_type": "stream",
     "text": [
      "\n",
      "Mean squared error full model: [  3.47098798e-29] \n",
      "\n",
      "Starting foward selection...\n",
      "best indices at iteration  1 : [1]\n",
      "best indices at iteration  2 : [1, 2]\n",
      "best indices at iteration  3 : [1, 2, 3]\n",
      "best indices at iteration  4 : [1, 2, 3, 4]\n",
      "best indices at iteration  5 : [1, 2, 3, 4, 5]\n",
      "best indices at iteration  6 : [1, 2, 3, 4, 5, 6]\n",
      "best indices at iteration  7 : [1, 2, 3, 4, 5, 6, 7]\n",
      "best indices at iteration  8 : [1, 2, 3, 4, 5, 6, 7, 8]\n",
      "best indices at iteration  9 : [1, 2, 3, 4, 5, 6, 7, 8, 0]\n",
      "best indices at iteration  10 : [1, 2, 3, 4, 5, 6, 7, 8, 0, 10]\n",
      "best indices at iteration  11 : [1, 2, 3, 4, 5, 6, 7, 8, 0, 10, 11]\n",
      "best indices at iteration  12 : [1, 2, 3, 4, 5, 6, 7, 8, 0, 10, 11, 9]\n",
      "...done.\n",
      "\n",
      "Mallow's CPs of best indices: [6.3832053871044483e+29, 6.3546795962238005e+29, 4.3553075601859717e+29, 3.9156961859157058e+29, 3.4207723678954564e+29, 1.092463301482855e+29, 28.181818181818183, 14.545454545454547, 11.454545454545455, 13.454545454545455, 15.454545454545455, 20.727272727272727]\n",
      "X column indices found by forward selection: [1, 2, 3, 4, 5, 6, 7, 8, 0] \n",
      "\n"
     ]
    }
   ],
   "source": [
    "#We do forward selection of the dataframe values\n",
    "house_idcs = forward_selection(X_house_reg_train,y_house_train);"
   ]
  },
  {
   "cell_type": "code",
   "execution_count": 42,
   "metadata": {
    "collapsed": false
   },
   "outputs": [
    {
     "data": {
      "image/png": "[encoded data removed]",
      "text/plain": [
       "<matplotlib.figure.Figure at 0x7f5d219a6a58>"
      ]
     },
     "metadata": {},
     "output_type": "display_data"
    },
    {
     "name": "stdout",
     "output_type": "stream",
     "text": [
      "(Mean squared error before forward selection:  [ 65.19481876] )\n",
      "Mean squared error after forward selection:  [ 51.28529803]\n",
      "(Mean squared error on train data before forward selection:  [ 2.37762696] )\n",
      "Mean squared error on train data after forward selection:  [ 2.75031394]\n"
     ]
    }
   ],
   "source": [
    "# Create linear regression object\n",
    "reg_house_fs = sk_lm.LinearRegression()\n",
    "\n",
    "X_house_subset = X_house_reg_train[:,house_idcs];\n",
    "\n",
    "# Train the model using the selected subset of the training sets\n",
    "reg_house_fs.fit(X_house_subset, y_house_train);\n",
    "\n",
    "# Get column names as list, get selected indices\n",
    "column_names_fs = list(X_house_reg.columns.values[house_idcs]);\n",
    "x_pos = range(1,len(column_names_fs)+1)\n",
    "\n",
    "# Print bars\n",
    "plt.bar(x_pos,reg_house_fs.coef_, align='center');\n",
    "plt.xticks(x_pos,column_names,rotation='vertical');\n",
    "plt.show();\n",
    "\n",
    "# The mean squared error\n",
    "print(\"(Mean squared error before forward selection: \", mse(reg_house,X_house_reg_test,y_house_test),\")\");\n",
    "print(\"Mean squared error after forward selection: \", mse(reg_house_fs,X_house_reg_test[:,house_idcs],y_house_test));\n",
    "\n",
    "# The mean squared error\n",
    "print(\"(Mean squared error on train data before forward selection: \", mse(reg_house,X_house_reg_train,y_house_train),\")\");\n",
    "print(\"Mean squared error on train data after forward selection: \", mse(reg_house_fs,X_house_reg_train[:,house_idcs],y_house_train));"
   ]
  },
  {
   "cell_type": "code",
   "execution_count": 43,
   "metadata": {
    "collapsed": false
   },
   "outputs": [
    {
     "data": {
      "image/png": "[encoded data removed]",
      "text/plain": [
       "<matplotlib.figure.Figure at 0x7f5d218919b0>"
      ]
     },
     "metadata": {},
     "output_type": "display_data"
    }
   ],
   "source": [
    "# Plot predictions for the area\n",
    "plt.scatter(X_house_reg_test[:,house_idcs][:,1], y_house_test,  color='black')\n",
    "plt.scatter(X_house_reg_test[:,house_idcs][:,1], reg_house_fs.predict(X_house_reg_test[:,house_idcs]), color='red');\n",
    "plt.xlabel(\"Area\");\n",
    "plt.ylabel(\"House price\");\n",
    "plt.show();"
   ]
  },
  {
   "cell_type": "markdown",
   "metadata": {},
   "source": [
    "# Interpreting a linear regression\n",
    "\n",
    "We standardise all parameters and fit the regression. Then we calculate the p-values for the regression coefficients."
   ]
  },
  {
   "cell_type": "code",
   "execution_count": 28,
   "metadata": {
    "collapsed": false
   },
   "outputs": [
    {
     "data": {
      "image/png": "[encoded data removed]",
      "text/plain": [
       "<matplotlib.figure.Figure at 0x7f5d25706dd8>"
      ]
     },
     "metadata": {},
     "output_type": "display_data"
    },
    {
     "name": "stdout",
     "output_type": "stream",
     "text": [
      "coefficient     value   p-value  t-statistic\n",
      "    beta 1  0.278750  0.111662     1.690181\n",
      "    beta 2  0.094143  0.260035     1.170565\n",
      "    beta 3  0.652200  0.001751     3.797890\n",
      "    beta 4  0.142435  0.048403     2.148598\n",
      "    beta 5 -0.162083  0.211475    -1.305250\n",
      "    beta 6 -0.089680  0.277495    -1.126888\n",
      "    beta 7  0.122987  0.060537     2.029503\n",
      "    beta 8  0.172120  0.011285     2.887153\n",
      "    beta 9  0.170917  0.017478     2.670000\n",
      "   beta 10  0.122469  0.065275     1.988874\n",
      "   beta 11  0.063153  0.272889     1.138205\n",
      "   beta 12  0.051779  0.524557     0.651538\n"
     ]
    }
   ],
   "source": [
    "# Standardise the input and output values\n",
    "X_house_std = skl.preprocessing.scale(X_house_reg);\n",
    "y_house_std = skl.preprocessing.scale(y_house);\n",
    "\n",
    "# Train the regression\n",
    "std_reg = skl.linear_model.LinearRegression();\n",
    "std_reg.fit(X_house_std,y_house_std);\n",
    "\n",
    "# Get column names as list\n",
    "column_names = list(X_house_reg.columns.values);\n",
    "x_pos = range(2,len(column_names)+2)\n",
    "\n",
    "# Print bars\n",
    "plt.bar(x_pos,std_reg.coef_, align='center');\n",
    "plt.xticks(x_pos,column_names,rotation='vertical');\n",
    "plt.show();\n",
    "\n",
    "# Print significance test\n",
    "significance_reg(std_reg,X_house_std,y_house_std);"
   ]
  },
  {
   "cell_type": "markdown",
   "metadata": {},
   "source": [
    "#### Significance\n",
    "Our significance level is $\\alpha = 0.05$. Bonferroni correction gives a corrected significance level of $\\alpha_{\\text{corrected}} = 0,004$."
   ]
  },
  {
   "cell_type": "markdown",
   "metadata": {
    "collapsed": true
   },
   "source": [
    "## Logistic Regression:\n",
    "\n",
    "If we want to predict if a house has a fire place, we have to adapt our model.\n",
    "The predicted data now is not continuous, but binary. Assumptions behind the linear regression (linear relation input output, normally distributed prediction error) are no violated.\n",
    "We have to adapt our model!\n",
    "\n",
    "First, we construct the input matrix X and the predicted variable y. As before, we drop the strongly correlated *bedroom* variable."
   ]
  },
  {
   "cell_type": "code",
   "execution_count": 29,
   "metadata": {
    "collapsed": false
   },
   "outputs": [],
   "source": [
    "X_house_log = df_house.drop([\"fire_place\"],axis=1).drop(\"bedrooms\", axis=1);\n",
    "y_house_log = df_house[\"fire_place\"];"
   ]
  },
  {
   "cell_type": "markdown",
   "metadata": {},
   "source": [
    "Now we plot one of the input variables (we choose area, as it has a nice variance) against the output variable y."
   ]
  },
  {
   "cell_type": "code",
   "execution_count": 30,
   "metadata": {
    "collapsed": false
   },
   "outputs": [
    {
     "data": {
      "image/png": "[encoded data removed]",
      "text/plain": [
       "<matplotlib.figure.Figure at 0x7f5d6af12f60>"
      ]
     },
     "metadata": {},
     "output_type": "display_data"
    }
   ],
   "source": [
    "plt.scatter(X_house_log[\"area\"],y_house_log);"
   ]
  },
  {
   "cell_type": "markdown",
   "metadata": {},
   "source": [
    "#### Logistic regression in ScikitLearn\n",
    "The logistic regression model fits a logistic function between the datapoints. \n",
    "This function gives the probability of y being true for a given input x.\n",
    "\n",
    "ScikitLearn provides the class\n",
    "* *LogisticRegression*\n",
    "with functions\n",
    " * *fit(X,y)*: fits the regression on data X, y. X is an array of arrays (one for each datapoint), y is the observed y value of each datapoint.\n",
    "**After fitting the regression, one can read the learned parameters:**\n",
    " * *intercept_*: Offset, prediction if all values are 0\n",
    " * *coef_*: Regression coefficients \n",
    "\n",
    "Let's initialise the class and fit the parameters:"
   ]
  },
  {
   "cell_type": "code",
   "execution_count": 31,
   "metadata": {
    "collapsed": false
   },
   "outputs": [],
   "source": [
    "logreg = skl.linear_model.LogisticRegression();\n",
    "logreg.fit(X_house_log,y_house_log);"
   ]
  },
  {
   "cell_type": "markdown",
   "metadata": {},
   "source": [
    "Now we can visualise our predictions for a given input x. Our input has many variables (which we can't plot), so we just show the area on the x-axis. Because the model takes the other variables in account as well, the predictions will be complex (and not on a simple function)."
   ]
  },
  {
   "cell_type": "code",
   "execution_count": 32,
   "metadata": {
    "collapsed": false
   },
   "outputs": [
    {
     "data": {
      "image/png": "[encoded data removed]",
      "text/plain": [
       "<matplotlib.figure.Figure at 0x7f5d2193dfd0>"
      ]
     },
     "metadata": {},
     "output_type": "display_data"
    }
   ],
   "source": [
    "plt.scatter(X_house_log[\"area\"],y_house_log);\n",
    "\n",
    "#resolution\n",
    "test_x = np.arange(min(X_house_log[\"area\"]),max(X_house_log[\"area\"]),1000)[:];\n",
    "test_y=logreg.predict_proba(X_house_log)[:,1];\n",
    "plt.plot(X_house_log[\"area\"],test_y, \".\",color='red');"
   ]
  },
  {
   "cell_type": "markdown",
   "metadata": {},
   "source": [
    "#### Simple logistic regresison\n",
    "\n",
    "A more intuitive way to show how logistic regression works is to show the output for a single input variable."
   ]
  },
  {
   "cell_type": "code",
   "execution_count": 33,
   "metadata": {
    "collapsed": false
   },
   "outputs": [],
   "source": [
    "#instantiate new class\n",
    "logreg_simple = skl.linear_model.LogisticRegression();\n",
    "\n",
    "#Place X_house_log[\"area\"] in an array an \"zip\" it.\n",
    "X_house_log_area = [X_house_log[\"area\"]];\n",
    "X_house_log_area_zip = [list(i) for i in zip(*X_house_log_area)];\n",
    "\n",
    "#fit the regression\n",
    "logreg_simple.fit(X_house_log_area_zip,y_house_log);"
   ]
  },
  {
   "cell_type": "markdown",
   "metadata": {},
   "source": [
    "We now can plot the predicted probability for y being one. From close this can look like a line:"
   ]
  },
  {
   "cell_type": "code",
   "execution_count": 34,
   "metadata": {
    "collapsed": false
   },
   "outputs": [
    {
     "data": {
      "image/png": "[encoded data removed]",
      "text/plain": [
       "<matplotlib.figure.Figure at 0x7f5d21b49358>"
      ]
     },
     "metadata": {},
     "output_type": "display_data"
    }
   ],
   "source": [
    "plt.scatter(X_house_log[\"area\"],y_house_log);\n",
    "test_x_2 = np.arange(min(X_house_log_area_zip)[0],max(X_house_log_area_zip)[0],0.1);\n",
    "test_x_2_zip = [list(i) for i in zip(*[test_x_2])];\n",
    "test_y_2=logreg_simple.predict_proba(test_x_2_zip)[:,1];\n",
    "\n",
    "plt.plot(test_x_2,test_y_2, color='red');"
   ]
  },
  {
   "cell_type": "markdown",
   "metadata": {},
   "source": [
    "If we now zoom out and show the output of the regression function, we see the nice shape of the logistic function. (It can look like this or inverted, depending on if the probability grows or decreases for growing x)."
   ]
  },
  {
   "cell_type": "code",
   "execution_count": 35,
   "metadata": {
    "collapsed": false
   },
   "outputs": [
    {
     "data": {
      "image/png": "[encoded data removed]",
      "text/plain": [
       "<matplotlib.figure.Figure at 0x7f5d218b2828>"
      ]
     },
     "metadata": {},
     "output_type": "display_data"
    }
   ],
   "source": [
    "plt.scatter(X_house_log[\"area\"],y_house_log);\n",
    "test_x_3 = np.arange(min(X_house_log_area_zip)[0]-100,max(X_house_log_area_zip)[0]+100,0.1);\n",
    "test_x_3_zip = [list(i) for i in zip(*[test_x_3])];\n",
    "test_y_3=logreg_simple.predict_proba(test_x_3_zip)[:,1];\n",
    "\n",
    "plt.plot(test_x_3,test_y_3, color='red');"
   ]
  },
  {
   "cell_type": "markdown",
   "metadata": {},
   "source": [
    "### Interpreting logistic regression parameters\n",
    "\n",
    "First we standardise the input and output variables $X$:"
   ]
  },
  {
   "cell_type": "code",
   "execution_count": 36,
   "metadata": {
    "collapsed": false
   },
   "outputs": [],
   "source": [
    "X_house_log_std = skl.preprocessing.scale(X_house_log);"
   ]
  },
  {
   "cell_type": "markdown",
   "metadata": {},
   "source": [
    "#### Significance test for logistic regression parameters\n",
    "\n",
    "For the parameters of a logistic regression, we calclulate the Wald statistic:\n",
    "$W=\\frac{\\hat\\beta}{X^{T}VX} \\sim \\chi^2_1$\n",
    "\n",
    "where $\\chi^2_1$ is the chi-square distribution with one degree of freedom. It looks as follows:"
   ]
  },
  {
   "cell_type": "code",
   "execution_count": 37,
   "metadata": {
    "collapsed": false
   },
   "outputs": [
    {
     "data": {
      "image/png": "[encoded data removed]",
      "text/plain": [
       "<matplotlib.figure.Figure at 0x7f5d219628d0>"
      ]
     },
     "metadata": {},
     "output_type": "display_data"
    }
   ],
   "source": [
    "x2_x = np.arange(0,100);\n",
    "\n",
    "#Instantiate the chi2 class from stats library\n",
    "chi2_1 = stats.chi2(1);\n",
    "\n",
    "#Calculate probability densities\n",
    "x2_y = chi2_1.pdf(x2_x);\n",
    "\n",
    "plt.plot(x2_x,x2_y);\n",
    "plt.xlabel(\"value\");\n",
    "plt.ylabel(\"probability density\");\n",
    "plt.show();"
   ]
  },
  {
   "cell_type": "markdown",
   "metadata": {},
   "source": [
    "We define a function which prints the test statistics and p-values:\n",
    "* *significance_logreg(reg,X,y)*"
   ]
  },
  {
   "cell_type": "code",
   "execution_count": 38,
   "metadata": {
    "collapsed": false
   },
   "outputs": [],
   "source": [
    "def significance_logreg(reg,X,y):\n",
    "\n",
    "    n = len(y);\n",
    "    X = np.array(X);  \n",
    "    k=len(X[0]);\n",
    "    \n",
    "    #predicted probabilities\n",
    "    predProbs = np.matrix(reg.predict_proba(X))\n",
    "\n",
    "    # Design matrix -- add column of 1's at the beginning of your X_train matrix\n",
    "    X_ones = np.hstack(((np.ones(shape = (n,1))), X_house_log));\n",
    "\n",
    "    # diagonal matrix with p * (1-p)\n",
    "    V = np.matrix(np.zeros(shape = (n, n)));\n",
    "    np.fill_diagonal(V, np.multiply(predProbs[:,0], predProbs[:,1]).A1)\n",
    "\n",
    "    # Covariance matrix\n",
    "    covLogit = np.linalg.inv(X_ones.T * V * X_ones);\n",
    "\n",
    "    # Wald statistic (coefficient / s.e.) ^ 2\n",
    "    logitParams = np.insert(reg.coef_, 0, reg.intercept_)\n",
    "    wald_statistics = (logitParams / np.sqrt(np.diag(covLogit))) ** 2;\n",
    "    \n",
    "    # Probability of W under chi square distribution\n",
    "    p_values_bi = (1.0 - stats.chi2(1).cdf(abs(wald_statistics)));\n",
    "    \n",
    "    #here we print the statistics\n",
    "    \n",
    "    #first we define the shown coefficient names\n",
    "    coef_names = [];\n",
    "    for i in range(0,k):\n",
    "        coef_names.append(\"beta %i\"%(i+1));\n",
    "                    \n",
    "    #now we give the rest of the values to be displayed\n",
    "    table_values = [coef_names,reg.coef_[0],p_values_bi[-k:],wald_statistics[-k:]]\n",
    "    \n",
    "    #print table using the function defined before\n",
    "    print_table([\"coefficient\",\"value\",\"p-value\", \"W-statistic\"],table_values);"
   ]
  },
  {
   "cell_type": "markdown",
   "metadata": {},
   "source": [
    "We plot the coefficients and show the significances for analysis:"
   ]
  },
  {
   "cell_type": "code",
   "execution_count": 39,
   "metadata": {
    "collapsed": false
   },
   "outputs": [
    {
     "data": {
      "image/png": "[encoded data removed]",
      "text/plain": [
       "<matplotlib.figure.Figure at 0x7f5d21a0e908>"
      ]
     },
     "metadata": {},
     "output_type": "display_data"
    },
    {
     "name": "stdout",
     "output_type": "stream",
     "text": [
      "coefficient     value   p-value  W-statistic\n",
      "    beta 1  0.010185  0.997849     0.000007\n",
      "    beta 2  0.141168  0.661704     0.191460\n",
      "    beta 3 -0.348318  0.922752     0.009403\n",
      "    beta 4  0.334790  0.747343     0.103777\n",
      "    beta 5 -0.996935  0.377000     0.780461\n",
      "    beta 6  0.034100  0.519147     0.415588\n",
      "    beta 7  0.123050  0.399734     0.709126\n",
      "    beta 8 -0.224330  0.881945     0.022053\n",
      "    beta 9 -0.151683  0.938345     0.005983\n",
      "   beta 10 -0.098291  0.944381     0.004867\n",
      "   beta 11 -0.512334  0.803356     0.062004\n",
      "   beta 12 -0.392035  0.896425     0.016946\n"
     ]
    }
   ],
   "source": [
    "# Get column names as list\n",
    "column_names_log = list(X_house_log.columns.values);\n",
    "x_pos_log = range(2,len(column_names_log)+2);\n",
    "\n",
    "\n",
    "# Print bars\n",
    "plt.bar(x_pos_log,logreg.coef_[0], align='center');\n",
    "plt.xticks(x_pos_log,column_names_log,rotation='vertical');\n",
    "plt.show();\n",
    "\n",
    "significance_logreg(logreg,X_house_log,y_house_log);"
   ]
  }
 ],
 "metadata": {
  "kernelspec": {
   "display_name": "Python 3",
   "language": "python",
   "name": "python3"
  },
  "language_info": {
   "codemirror_mode": {
    "name": "ipython",
    "version": 3
   },
   "file_extension": ".py",
   "mimetype": "text/x-python",
   "name": "python",
   "nbconvert_exporter": "python",
   "pygments_lexer": "ipython3",
   "version": "3.5.2"
  },
  "widgets": {
   "state": {},
   "version": "1.1.1"
  }
 },
 "nbformat": 4,
 "nbformat_minor": 0
}
