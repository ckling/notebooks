{
 "cells": [
  {
   "cell_type": "markdown",
   "metadata": {},
   "source": [
    "# Hypothesis testing in Python\n",
    "\n",
    "A tutorial by Christoph Carl Kling, datascience ät c-kling.de\n",
    "\n",
    "GESIS - Leibniz Institute for the Social Sciences\n",
    "\n",
    "http://www.c-kling.de\n",
    "\n",
    "This work is licensed under a Creative Commons Attribution 4.0 International License:\n",
    "https://creativecommons.org/licenses/by/4.0/\n",
    "\n",
    "## Preparation and Basics\n",
    "\n",
    "Here we introduce concepts relevant for hypothesis testing, such as\n",
    "* The normal distribution class in Python\n",
    "* Maxmimum-Likelihood-Estimation\n",
    "* Confidence intervals\n",
    "* Sampling distributions\n",
    "\n",
    "### Preparation\n",
    "\n",
    "We start by telling Python to print plots in the notebook. \n",
    "Then we load the required libraries."
   ]
  },
  {
   "cell_type": "code",
   "execution_count": 1,
   "metadata": {
    "collapsed": false
   },
   "outputs": [],
   "source": [
    "#Plot directly in the notebook\n",
    "%matplotlib inline\n",
    "#Statistics library\n",
    "from scipy import stats as stats\n",
    "#Library for plotting\n",
    "import matplotlib.pyplot as plt\n",
    "#Basic library for data manipulation\n",
    "import numpy as np\n",
    "#Pandas\n",
    "import pandas as pd"
   ]
  },
  {
   "cell_type": "markdown",
   "metadata": {},
   "source": [
    "## Dataset \n",
    "We want to test, if the diet has an impact on the measured body weight of people. There are three classes:\n",
    "\n",
    "* Omnivore diet = 0\n",
    "* Carnivore diet = 1\n",
    "* Herbivore diet = 2\n",
    "\n",
    "**1)** Create an instance of the *pd.DataFrame()* class and load the data from the comma separated value file *data/diet.csv* using the *from_csv()* function.\n",
    "\n",
    "Print the head of the dataframe using *print()* and the method *head()* from the DataFrame."
   ]
  },
  {
   "cell_type": "code",
   "execution_count": 2,
   "metadata": {
    "collapsed": false
   },
   "outputs": [
    {
     "name": "stdout",
     "output_type": "stream",
     "text": [
      "    bodyweight  diet\n",
      "ID                  \n",
      "0    74.277721     0\n",
      "1    83.757289     0\n",
      "2    56.637713     0\n",
      "3    79.910742     1\n",
      "4    79.729190     1\n"
     ]
    }
   ],
   "source": [
    "df = pd.DataFrame();\n",
    "df = df.from_csv(\"data/diet.csv\");\n",
    "\n",
    "print(df.head());"
   ]
  },
  {
   "cell_type": "markdown",
   "metadata": {},
   "source": [
    "**2)** Create each three vectors for users doing diet 0, diet 1 and diet 2."
   ]
  },
  {
   "cell_type": "code",
   "execution_count": 3,
   "metadata": {
    "collapsed": false
   },
   "outputs": [],
   "source": [
    "ov = df[\"bodyweight\"][df[\"diet\"]==0];\n",
    "cv = df[\"bodyweight\"][df[\"diet\"]==1];\n",
    "hv = df[\"bodyweight\"][df[\"diet\"]==2];"
   ]
  },
  {
   "cell_type": "markdown",
   "metadata": {},
   "source": [
    "**3)**\n",
    "Use the functions\n",
    "* len()\n",
    "* np.mean()\n",
    "\n",
    "to print the group sizes, group means and group variances."
   ]
  },
  {
   "cell_type": "code",
   "execution_count": 4,
   "metadata": {
    "collapsed": false
   },
   "outputs": [
    {
     "name": "stdout",
     "output_type": "stream",
     "text": [
      "Group sizes: 100 100 100\n",
      "Group means: 69.07658428 75.02535076 75.18978055\n"
     ]
    }
   ],
   "source": [
    "print(\"Group sizes:\",len(ov),len(cv),len(hv));\n",
    "print(\"Group means:\",np.mean(ov),np.mean(cv),np.mean(hv));"
   ]
  },
  {
   "cell_type": "markdown",
   "metadata": {},
   "source": [
    "**4)** Use the method\n",
    "* np.var()\n",
    "\n",
    "to calculate the variances of each group."
   ]
  },
  {
   "cell_type": "code",
   "execution_count": 5,
   "metadata": {
    "collapsed": false
   },
   "outputs": [
    {
     "name": "stdout",
     "output_type": "stream",
     "text": [
      "Group variances: 105.721897927 104.093446359 87.0318651783\n"
     ]
    }
   ],
   "source": [
    "print(\"Group variances:\",np.var(ov),np.var(cv),np.var(hv));"
   ]
  },
  {
   "cell_type": "markdown",
   "metadata": {},
   "source": [
    "**5)** Use *plt.hist()* to print histograms of each array."
   ]
  },
  {
   "cell_type": "code",
   "execution_count": 6,
   "metadata": {
    "collapsed": false
   },
   "outputs": [
    {
     "data": {
      "image/png": "[encoded data removed]",
      "text/plain": [
       "<matplotlib.figure.Figure at 0x7fdac30aef98>"
      ]
     },
     "metadata": {},
     "output_type": "display_data"
    }
   ],
   "source": [
    "plt.hist(ov,alpha=0.5);\n",
    "plt.hist(cv,alpha=0.5);\n",
    "plt.hist(hv,alpha=0.5);"
   ]
  },
  {
   "cell_type": "markdown",
   "metadata": {},
   "source": [
    "**6)** Use *stats.ttest_ind()* to calculate the t statistic and p-value for Student's t-test on all pairings of the different diet groups values. Interpret the p-value. Which parameters are significant at significance level $\\alpha=0.05$?\n",
    "\n",
    "**7)** Do we have to correct our significance level if we do multiple tests?"
   ]
  },
  {
   "cell_type": "code",
   "execution_count": 7,
   "metadata": {
    "collapsed": false
   },
   "outputs": [
    {
     "name": "stdout",
     "output_type": "stream",
     "text": [
      "OV-CV: The test statistics are -4.08625904821 and the p-values are 6.36599660704e-05\n",
      "OV-HV: The test statistics are -4.38111349567 and the p-values are 1.91297073466e-05\n",
      "CV-HV: The test statistics are -0.118342024965 and the p-values are 0.905916630642\n"
     ]
    }
   ],
   "source": [
    "t_oc, p_value_oc = stats.ttest_ind(ov, cv);\n",
    "t_oh, p_value_oh = stats.ttest_ind(ov, hv);\n",
    "t_ch, p_value_ch = stats.ttest_ind(cv, hv);\n",
    "print(\"OV-CV: The test statistics are\",t_oc,\"and the p-values are\",p_value_oc);\n",
    "print(\"OV-HV: The test statistics are\",t_oh,\"and the p-values are\",p_value_oh);\n",
    "print(\"CV-HV: The test statistics are\",t_ch,\"and the p-values are\",p_value_ch);"
   ]
  },
  {
   "cell_type": "markdown",
   "metadata": {},
   "source": [
    "**8)** Use *stats.f_oneway()* to calculate the F statistic and p-value for ANOVA on the different diet groups values. Interpret the result! (Our significance level is $\\alpha=0.05$.)"
   ]
  },
  {
   "cell_type": "code",
   "execution_count": 8,
   "metadata": {
    "collapsed": false
   },
   "outputs": [
    {
     "name": "stdout",
     "output_type": "stream",
     "text": [
      "The test statistics F is 12.1372486995 and the p-value is 8.57450731376e-06\n"
     ]
    }
   ],
   "source": [
    "F, p_value = stats.f_oneway(ov, cv, hv);\n",
    "print(\"The test statistics F is\",F,\"and the p-value is\",p_value)"
   ]
  },
  {
   "cell_type": "code",
   "execution_count": 9,
   "metadata": {
    "collapsed": false
   },
   "outputs": [
    {
     "name": "stdout",
     "output_type": "stream",
     "text": [
      "0,76.528570,0\n",
      "1,62.633164,0\n",
      "2,102.593968,1\n",
      "3,71.815255,2\n",
      "4,72.622663,1\n",
      "5,68.339724,2\n",
      "6,79.983236,0\n",
      "7,68.527558,0\n",
      "8,88.497539,0\n",
      "9,73.258892,2\n",
      "10,85.876564,2\n",
      "11,91.919307,2\n",
      "12,80.312501,2\n",
      "13,93.094846,1\n",
      "14,90.576643,2\n",
      "15,60.913861,1\n",
      "16,83.864353,1\n",
      "17,39.853357,0\n",
      "18,79.858735,0\n",
      "19,64.473035,1\n",
      "20,67.933632,2\n",
      "21,61.566710,0\n",
      "22,78.555470,0\n",
      "23,74.659213,1\n",
      "24,75.024692,0\n",
      "25,69.051796,1\n",
      "26,74.370610,0\n",
      "27,79.152482,1\n",
      "28,84.069563,2\n",
      "29,54.197102,0\n",
      "30,63.122989,1\n",
      "31,82.804782,2\n",
      "32,94.500150,1\n",
      "33,62.544652,0\n",
      "34,67.808861,2\n",
      "35,82.927259,2\n",
      "36,84.031665,0\n",
      "37,67.443302,2\n",
      "38,52.599672,0\n",
      "39,78.210637,2\n",
      "40,73.982038,2\n",
      "41,62.529293,1\n",
      "42,70.090563,0\n",
      "43,56.039414,1\n",
      "44,70.117134,0\n",
      "45,89.779835,2\n",
      "46,71.509584,0\n",
      "47,82.226918,2\n",
      "48,74.768981,1\n",
      "49,75.697965,1\n",
      "50,76.618716,2\n",
      "51,67.447281,1\n",
      "52,72.681308,0\n",
      "53,69.470340,2\n",
      "54,58.118406,0\n",
      "55,83.118339,1\n",
      "56,97.776301,1\n",
      "57,66.935592,2\n",
      "58,77.406037,0\n",
      "59,67.853899,1\n",
      "60,44.729401,0\n",
      "61,72.146848,0\n",
      "62,76.114999,0\n",
      "63,87.904404,2\n",
      "64,78.179282,1\n",
      "65,67.563170,1\n",
      "66,79.319998,0\n",
      "67,58.063952,0\n",
      "68,79.363662,2\n",
      "69,84.218057,1\n",
      "70,77.554754,1\n",
      "71,53.694190,0\n",
      "72,58.666278,2\n",
      "73,74.473776,1\n",
      "74,57.636234,0\n",
      "75,90.329553,2\n",
      "76,67.099686,1\n",
      "77,65.170406,2\n",
      "78,84.480967,1\n",
      "79,56.188249,1\n",
      "80,68.127242,0\n",
      "81,72.536825,2\n",
      "82,81.482646,0\n",
      "83,69.488478,2\n",
      "84,88.798504,1\n",
      "85,68.434381,0\n",
      "86,93.991999,0\n",
      "87,103.457720,2\n",
      "88,75.285930,1\n",
      "89,80.412970,0\n",
      "90,85.655953,2\n",
      "91,67.290803,2\n",
      "92,40.273667,0\n",
      "93,75.413386,2\n",
      "94,67.775181,1\n",
      "95,72.954388,2\n",
      "96,79.301049,1\n",
      "97,76.651740,1\n",
      "98,73.405151,1\n",
      "99,80.601241,2\n",
      "100,83.541151,1\n",
      "101,85.188332,2\n",
      "102,92.240145,1\n",
      "103,72.742039,0\n",
      "104,72.195190,2\n",
      "105,68.473728,2\n",
      "106,57.130461,1\n",
      "107,53.987398,2\n",
      "108,83.321230,1\n",
      "109,46.699948,2\n",
      "110,66.685529,1\n",
      "111,78.103996,2\n",
      "112,82.832413,2\n",
      "113,76.935109,0\n",
      "114,73.377790,0\n",
      "115,85.600828,0\n",
      "116,77.287748,0\n",
      "117,87.165008,0\n",
      "118,63.816201,1\n",
      "119,66.805292,0\n",
      "120,69.409933,2\n",
      "121,59.033760,0\n",
      "122,70.415491,1\n",
      "123,69.325794,2\n",
      "124,66.539145,0\n",
      "125,61.128468,0\n",
      "126,78.997488,2\n",
      "127,76.526113,1\n",
      "128,53.623951,2\n",
      "129,64.305234,0\n",
      "130,86.779405,1\n",
      "131,71.843220,2\n",
      "132,88.590426,1\n",
      "133,70.381948,0\n",
      "134,84.940977,0\n",
      "135,62.103132,2\n",
      "136,85.113044,0\n",
      "137,100.608151,2\n",
      "138,74.397066,1\n",
      "139,79.352529,0\n",
      "140,82.301366,0\n",
      "141,75.617398,2\n",
      "142,86.020227,1\n",
      "143,67.870719,1\n",
      "144,69.337756,0\n",
      "145,88.698257,1\n",
      "146,81.198184,0\n",
      "147,76.666678,2\n",
      "148,79.776273,2\n",
      "149,63.944918,0\n",
      "150,67.903742,2\n",
      "151,72.483420,1\n",
      "152,76.071038,0\n",
      "153,78.275669,2\n",
      "154,66.025684,0\n",
      "155,79.127692,2\n",
      "156,66.115989,1\n",
      "157,58.611515,0\n",
      "158,87.629420,2\n",
      "159,84.089585,2\n",
      "160,67.547694,1\n",
      "161,48.268391,0\n",
      "162,65.705460,2\n",
      "163,81.788944,0\n",
      "164,68.803631,0\n",
      "165,75.957009,1\n",
      "166,81.889381,0\n",
      "167,98.027549,1\n",
      "168,70.885502,0\n",
      "169,62.490597,2\n",
      "170,68.839751,0\n",
      "171,76.043775,1\n",
      "172,80.898562,0\n",
      "173,82.089052,1\n",
      "174,84.030487,2\n",
      "175,71.808837,1\n",
      "176,80.761302,0\n",
      "177,72.569370,0\n",
      "178,80.167109,2\n",
      "179,66.674258,1\n",
      "180,68.934818,0\n",
      "181,71.201705,2\n",
      "182,73.663935,1\n",
      "183,51.872166,0\n",
      "184,61.753494,1\n",
      "185,88.366229,1\n",
      "186,74.466457,1\n",
      "187,85.918174,1\n",
      "188,68.327113,2\n",
      "189,77.231569,2\n",
      "190,89.212674,2\n",
      "191,88.039790,2\n",
      "192,78.270560,2\n",
      "193,54.872962,2\n",
      "194,83.143488,1\n",
      "195,51.014862,1\n",
      "196,74.983101,1\n",
      "197,68.801440,0\n",
      "198,73.392917,1\n",
      "199,53.226898,0\n",
      "200,81.193075,1\n",
      "201,83.024900,0\n",
      "202,84.599483,0\n",
      "203,78.085885,1\n",
      "204,88.587027,2\n",
      "205,90.740195,2\n",
      "206,68.360295,0\n",
      "207,81.410882,1\n",
      "208,62.770901,0\n",
      "209,59.677886,0\n",
      "210,74.152176,0\n",
      "211,67.392172,1\n",
      "212,88.566678,1\n",
      "213,84.271004,1\n",
      "214,72.692267,2\n",
      "215,83.199233,0\n",
      "216,57.250069,0\n",
      "217,75.919313,2\n",
      "218,65.232927,1\n",
      "219,70.358364,0\n",
      "220,70.281107,1\n",
      "221,66.983150,0\n",
      "222,76.348274,1\n",
      "223,84.050470,1\n",
      "224,71.951634,1\n",
      "225,95.609011,2\n",
      "226,71.576136,2\n",
      "227,63.017384,1\n",
      "228,75.359623,0\n",
      "229,58.570274,0\n",
      "230,77.194357,1\n",
      "231,90.556036,2\n",
      "232,65.954092,0\n",
      "233,91.979174,2\n",
      "234,87.273225,1\n",
      "235,75.929909,2\n",
      "236,68.483353,1\n",
      "237,65.670266,0\n",
      "238,74.526269,2\n",
      "239,75.270386,1\n",
      "240,57.855752,2\n",
      "241,72.891857,2\n",
      "242,76.168237,1\n",
      "243,81.913611,1\n",
      "244,63.038170,0\n",
      "245,65.256316,0\n",
      "246,64.972218,0\n",
      "247,71.741434,1\n",
      "248,88.414857,2\n",
      "249,76.785277,1\n",
      "250,92.739077,1\n",
      "251,57.691188,2\n",
      "252,82.799867,2\n",
      "253,70.383182,2\n",
      "254,71.540298,0\n",
      "255,57.810919,0\n",
      "256,62.834496,1\n",
      "257,77.014849,2\n",
      "258,77.126530,0\n",
      "259,89.820545,1\n",
      "260,83.746855,1\n",
      "261,63.695527,0\n",
      "262,80.895799,1\n",
      "263,59.117646,0\n",
      "264,82.909584,1\n",
      "265,66.480267,2\n",
      "266,78.150960,0\n",
      "267,67.233493,0\n",
      "268,81.116621,1\n",
      "269,80.889609,1\n",
      "270,74.736068,2\n",
      "271,66.081326,2\n",
      "272,69.071062,2\n",
      "273,61.701672,0\n",
      "274,59.611139,0\n",
      "275,66.440035,2\n",
      "276,67.442604,0\n",
      "277,73.169177,2\n",
      "278,78.652618,1\n",
      "279,75.371454,0\n",
      "280,78.789059,1\n",
      "281,92.996602,1\n",
      "282,67.256348,2\n",
      "283,65.662377,1\n",
      "284,59.577848,2\n",
      "285,79.037968,2\n",
      "286,56.409674,2\n",
      "287,81.523192,2\n",
      "288,68.611549,2\n",
      "289,87.200469,1\n",
      "290,75.848968,2\n",
      "291,63.888118,2\n",
      "292,72.504015,1\n",
      "293,81.024573,2\n",
      "294,62.246634,0\n",
      "295,74.932217,2\n",
      "296,66.054975,0\n",
      "297,89.812874,1\n",
      "298,59.915980,0\n",
      "299,67.970568,2\n"
     ]
    }
   ],
   "source": [
    "#We sample 100 values from different normal distributions:\n",
    "\n",
    "mu_1 = 70\n",
    "mu_2 = 75\n",
    "mu_3 = 69.5\n",
    "\n",
    "sizes = 100;\n",
    "\n",
    "sigma_anova = 10;\n",
    "\n",
    "normal_dist_1 = stats.norm(mu_1,sigma_anova);\n",
    "normal_dist_2 = stats.norm(mu_2,sigma_anova);\n",
    "normal_dist_3 = stats.norm(mu_3,sigma_anova);\n",
    "\n",
    "normal_values = np.append([normal_dist_1.rvs(size=sizes)],[normal_dist_2.rvs(size=sizes),normal_dist_2.rvs(size=sizes)]);\n",
    "\n",
    "indices = np.arange(0,sizes*3);\n",
    "indices_groups = [0]*sizes;\n",
    "indices_groups.extend([1]*sizes);\n",
    "indices_groups.extend([2]*sizes);\n",
    "\n",
    "np.random.shuffle(indices);\n",
    "\n",
    "for i in range(0,sizes*3):\n",
    "    si = indices[i];\n",
    "    print(\"%i,%f,%i\"%(i,normal_values[si],indices_groups[si]));"
   ]
  },
  {
   "cell_type": "code",
   "execution_count": 10,
   "metadata": {
    "collapsed": false
   },
   "outputs": [
    {
     "data": {
      "image/png": "[encoded data removed]",
      "text/plain": [
       "<matplotlib.figure.Figure at 0x7fdac2e6d358>"
      ]
     },
     "metadata": {},
     "output_type": "display_data"
    },
    {
     "name": "stdout",
     "output_type": "stream",
     "text": [
      "The test statistics F is 11.1395224111 and the p-value is 2.1628481037e-05\n"
     ]
    }
   ],
   "source": [
    "#We sample 100 values from different normal distributions:\n",
    "\n",
    "mu_1 = 70\n",
    "mu_2 = 75\n",
    "mu_3 = 69.5\n",
    "\n",
    "sizes = 100;\n",
    "\n",
    "sigma_anova = 10;\n",
    "\n",
    "normal_dist_1 = stats.norm(mu_1,sigma_anova);\n",
    "normal_dist_2 = stats.norm(mu_2,sigma_anova);\n",
    "normal_dist_3 = stats.norm(mu_3,sigma_anova);\n",
    "\n",
    "normal_values = normal_dist_1.rvs(size=100);\n",
    "normal_values_2 = normal_dist_2.rvs(size=100);\n",
    "normal_values_3 = normal_dist_3.rvs(size=100);\n",
    "\n",
    "\n",
    "bins = np.linspace(min(normal_values), max(normal_values_3), 25)\n",
    "plt.hist(normal_values,bins,label='sample 1',alpha=0.5);\n",
    "plt.hist(normal_values_2,bins,label='sample 2',alpha=0.5);\n",
    "plt.hist(normal_values_3,bins,label='sample 3',alpha=0.5);\n",
    "plt.legend(loc='upper right')\n",
    "plt.show();\n",
    "\n",
    "\n",
    "F, p_value = stats.f_oneway(normal_values, normal_values_2, normal_values_3);\n",
    "print(\"The test statistics F is\",F,\"and the p-value is\",p_value)"
   ]
  }
 ],
 "metadata": {
  "kernelspec": {
   "display_name": "Python 3",
   "language": "python",
   "name": "python3"
  },
  "language_info": {
   "codemirror_mode": {
    "name": "ipython",
    "version": 3
   },
   "file_extension": ".py",
   "mimetype": "text/x-python",
   "name": "python",
   "nbconvert_exporter": "python",
   "pygments_lexer": "ipython3",
   "version": "3.5.2"
  }
 },
 "nbformat": 4,
 "nbformat_minor": 0
}
