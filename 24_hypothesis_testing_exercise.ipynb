{
 "cells": [
  {
   "cell_type": "markdown",
   "metadata": {},
   "source": [
    "# Hypothesis testing in Python\n",
    "\n",
    "A tutorial by Christoph Carl Kling, datascience ät c-kling.de\n",
    "\n",
    "GESIS - Leibniz Institute for the Social Sciences\n",
    "\n",
    "http://www.c-kling.de\n",
    "\n",
    "This work is licensed under a Creative Commons Attribution 4.0 International License:\n",
    "https://creativecommons.org/licenses/by/4.0/\n",
    "\n",
    "## Preparation and Basics\n",
    "\n",
    "Here we introduce concepts relevant for hypothesis testing, such as\n",
    "* The normal distribution class in Python\n",
    "* Maxmimum-Likelihood-Estimation\n",
    "* Confidence intervals\n",
    "* Sampling distributions\n",
    "\n",
    "### Preparation\n",
    "\n",
    "We start by telling Python to print plots in the notebook. \n",
    "Then we load the required libraries."
   ]
  },
  {
   "cell_type": "code",
   "execution_count": 1,
   "metadata": {
    "collapsed": false
   },
   "outputs": [
    {
     "name": "stderr",
     "output_type": "stream",
     "text": [
      "/usr/local/lib/python3.5/dist-packages/pandas/core/computation/__init__.py:18: UserWarning: The installed version of numexpr 2.4.3 is not supported in pandas and will be not be used\n",
      "The minimum supported version is 2.4.6\n",
      "\n",
      "  ver=ver, min_ver=_MIN_NUMEXPR_VERSION), UserWarning)\n"
     ]
    }
   ],
   "source": [
    "#Plot directly in the notebook\n",
    "%matplotlib inline\n",
    "#Statistics library\n",
    "from scipy import stats as stats\n",
    "#Library for plotting\n",
    "import matplotlib.pyplot as plt\n",
    "#Basic library for data manipulation\n",
    "import numpy as np\n",
    "#Pandas\n",
    "import pandas as pd"
   ]
  },
  {
   "cell_type": "markdown",
   "metadata": {},
   "source": [
    "## Dataset \n",
    "We want to test, if the diet has an impact on the measured body weight of people. There are three classes:\n",
    "\n",
    "* Omnivore diet = 0\n",
    "* Carnivore diet = 1\n",
    "* Herbivore diet = 2\n",
    "\n",
    "**1)** Create an instance of the *pd.DataFrame()* class and load the data from the comma separated value file *data/diet.csv* using the *from_csv()* function.\n",
    "\n",
    "Print the head of the dataframe using *print()* and the method *head()* from the DataFrame."
   ]
  },
  {
   "cell_type": "code",
   "execution_count": 2,
   "metadata": {
    "collapsed": false
   },
   "outputs": [
    {
     "name": "stdout",
     "output_type": "stream",
     "text": [
      "    bodyweight  diet\n",
      "ID                  \n",
      "0    74.277721     0\n",
      "1    83.757289     0\n",
      "2    56.637713     0\n",
      "3    79.910742     1\n",
      "4    79.729190     1\n"
     ]
    }
   ],
   "source": [
    "df =\n",
    "df =\n",
    "\n"
   ]
  },
  {
   "cell_type": "markdown",
   "metadata": {},
   "source": [
    "**2)** Create each three vectors for users doing diet 0 (ov), diet 1 (cv) and diet 2 (hv)."
   ]
  },
  {
   "cell_type": "code",
   "execution_count": 3,
   "metadata": {
    "collapsed": false
   },
   "outputs": [],
   "source": [
    "ov = \n",
    "cv = \n",
    "hv = "
   ]
  },
  {
   "cell_type": "markdown",
   "metadata": {},
   "source": [
    "**3)**\n",
    "Use the functions\n",
    "* len()\n",
    "* np.mean()\n",
    "\n",
    "to print the group sizes, group means and group variances."
   ]
  },
  {
   "cell_type": "code",
   "execution_count": 4,
   "metadata": {
    "collapsed": false
   },
   "outputs": [
    {
     "name": "stdout",
     "output_type": "stream",
     "text": [
      "Group sizes: 100 100 100\n",
      "Group means: 69.07658428 75.02535076 75.18978055\n"
     ]
    }
   ],
   "source": []
  },
  {
   "cell_type": "markdown",
   "metadata": {},
   "source": [
    "**4)** Use the method\n",
    "* np.var()\n",
    "\n",
    "to calculate the variances of each group."
   ]
  },
  {
   "cell_type": "code",
   "execution_count": 5,
   "metadata": {
    "collapsed": false
   },
   "outputs": [
    {
     "name": "stdout",
     "output_type": "stream",
     "text": [
      "Group variances: 105.721897927 104.093446359 87.0318651783\n"
     ]
    }
   ],
   "source": []
  },
  {
   "cell_type": "markdown",
   "metadata": {},
   "source": [
    "**5)** Use *plt.hist()* to print histograms of each array."
   ]
  },
  {
   "cell_type": "code",
   "execution_count": 6,
   "metadata": {
    "collapsed": false
   },
   "outputs": [
    {
     "data": {
      "image/png": "[encoded data removed]",
      "text/plain": [
       "<matplotlib.figure.Figure at 0x7fab5e3aeef0>"
      ]
     },
     "metadata": {},
     "output_type": "display_data"
    }
   ],
   "source": []
  },
  {
   "cell_type": "markdown",
   "metadata": {},
   "source": [
    "**6)** Use *stats.ttest_ind()* to calculate the t statistic and p-value for Student's t-test on all pairings of the different diet groups values. Interpret the p-value. Which parameters are significant at significance level $\\alpha=0.05$?\n",
    "\n",
    "**7)** Do we have to correct our significance level if we do multiple tests?"
   ]
  },
  {
   "cell_type": "code",
   "execution_count": 7,
   "metadata": {
    "collapsed": false
   },
   "outputs": [
    {
     "name": "stdout",
     "output_type": "stream",
     "text": [
      "OV-CV: The test statistics are -4.08625904821 and the p-values are 6.36599660704e-05\n",
      "OV-HV: The test statistics are -4.38111349567 and the p-values are 1.91297073466e-05\n",
      "CV-HV: The test statistics are -0.118342024965 and the p-values are 0.905916630642\n"
     ]
    }
   ],
   "source": [
    "t_oc, p_value_oc =\n",
    "t_oh, p_value_oh =\n",
    "t_ch, p_value_ch =\n",
    "print(\"OV-CV: The test statistics are\",t_oc,\"and the p-values are\",p_value_oc);\n",
    "print(\"OV-HV: The test statistics are\",t_oh,\"and the p-values are\",p_value_oh);\n",
    "print(\"CV-HV: The test statistics are\",t_ch,\"and the p-values are\",p_value_ch);"
   ]
  },
  {
   "cell_type": "markdown",
   "metadata": {},
   "source": [
    "**8)** Use *stats.f_oneway()* to calculate the F statistic and p-value for ANOVA on the different diet groups values. Interpret the result! (Our significance level is $\\alpha=0.05$.)"
   ]
  },
  {
   "cell_type": "code",
   "execution_count": 8,
   "metadata": {
    "collapsed": false
   },
   "outputs": [
    {
     "name": "stdout",
     "output_type": "stream",
     "text": [
      "The test statistics F is 12.1372486995 and the p-value is 8.57450731376e-06\n"
     ]
    }
   ],
   "source": [
    "F, p_value = \n",
    "print(\"The test statistics F is\",F,\"and the p-value is\",p_value)"
   ]
  }
 ],
 "metadata": {
  "kernelspec": {
   "display_name": "Python 3",
   "language": "python",
   "name": "python3"
  },
  "language_info": {
   "codemirror_mode": {
    "name": "ipython",
    "version": 3
   },
   "file_extension": ".py",
   "mimetype": "text/x-python",
   "name": "python",
   "nbconvert_exporter": "python",
   "pygments_lexer": "ipython3",
   "version": "3.5.3"
  },
  "widgets": {
   "state": {},
   "version": "1.1.1"
  }
 },
 "nbformat": 4,
 "nbformat_minor": 0
}
