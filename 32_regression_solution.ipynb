{
 "cells": [
  {
   "cell_type": "markdown",
   "metadata": {},
   "source": [
    "# Regression in Python\n",
    "\n",
    "A tutorial by Christoph Carl Kling, datascience ät c-kling.de\n",
    "\n",
    "GESIS - Leibniz Institute for the Social Sciences\n",
    "\n",
    "http://www.c-kling.de\n",
    "\n",
    "This work is licensed under a Creative Commons Attribution 4.0 International License:\n",
    "https://creativecommons.org/licenses/by/4.0/\n",
    "\n",
    "## Preparation and Basics\n",
    "\n",
    "Here we introduce concepts relevant for hypothesis testing, such as\n",
    "* The normal distribution class in Python\n",
    "* Maxmimum-Likelihood-Estimation\n",
    "* Confidence intervals\n",
    "* Sampling distributions\n",
    "\n",
    "### Preparation\n",
    "\n",
    "We start by telling Python to print plots in the notebook. \n",
    "Then we load the required libraries.\n",
    "Additionally to the libraries for hypothesis testing, we load the sklearn library. This library is useful for machine learning tasks such as predicting variables with linear regression. We will later look at regression in detail."
   ]
  },
  {
   "cell_type": "code",
   "execution_count": 3,
   "metadata": {
    "collapsed": false
   },
   "outputs": [],
   "source": [
    "#Plot directly in the notebook\n",
    "%matplotlib inline\n",
    "#Statistics library\n",
    "from scipy import stats as stats\n",
    "#Library for plotting\n",
    "import matplotlib.pyplot as plt\n",
    "#Basic library for data manipulation\n",
    "import numpy as np\n",
    "#Library for linear regression\n",
    "import sklearn.linear_model as sk_lm\n",
    "import sklearn as skl\n",
    "#Basic library for loading and analysing data\n",
    "import pandas as pd"
   ]
  },
  {
   "cell_type": "markdown",
   "metadata": {},
   "source": [
    "### Predefined functions\n",
    "\n",
    "Here we define two functions and their helper functions:\n",
    "* *significance_reg(regression,X,y)*: prints p-values for regression coefficients\n",
    " * regression: an instance of LinearRegression() from sklearn\n",
    " * X: input values\n",
    " * y: output values\n",
    "\n",
    "* *forward_selection(X,y)*: returns a subset of X found by forward selection\n",
    " * X: input values\n",
    " * y: output values"
   ]
  },
  {
   "cell_type": "code",
   "execution_count": 4,
   "metadata": {
    "collapsed": false
   },
   "outputs": [],
   "source": [
    "#squared error of a (linear) regression\n",
    "def squared_error (regression, X, y):\n",
    "    sqe = 0;\n",
    "    for i in range(0,len(X)):\n",
    "        y_hat = regression.predict([X[i]]);\n",
    "        sq_error = (y[i]-y_hat)**2;\n",
    "        sqe = sqe + sq_error;    \n",
    "    return sqe;\n",
    "\n",
    "#prints names and column contents for a table\n",
    "def print_table (names,columns):\n",
    "    df = pd.DataFrame();\n",
    "    for i in range(0,len(names)):\n",
    "        df[names[i]]=columns[i];\n",
    "    print(df.to_string(index=False))\n",
    "\n",
    "def significance_reg(reg,X,y):\n",
    "\n",
    "    n = len(y);\n",
    "    k = len(X[0])\n",
    "    X = np.array(X);    \n",
    "    sq_err = squared_error(reg,X,y);  \n",
    "    \n",
    "    #degrees of freedom for t-statistics\n",
    "    df = n-k-1;   \n",
    "    \n",
    "    sq_err_by_sqx = sq_err * (np.linalg.inv(np.dot(X.T,X)).diagonal());\n",
    "    t_bi = reg.coef_ * np.sqrt((n-k-1) /  sq_err_by_sqx );     \n",
    "    \n",
    "    #two-sided test\n",
    "    p_values_bi = (1 - stats.t.cdf(abs(t_bi),df))*2;\n",
    "    \n",
    "    #here we print the statistics\n",
    "    \n",
    "    #first we define the shown coefficient names\n",
    "    coef_names = [];\n",
    "    for i in range(0,k):\n",
    "        coef_names.append(\"beta %i\"%(i+1));\n",
    "    \n",
    "    #now we give the rest of the values to be displayed\n",
    "    table_values = [coef_names,reg.coef_,p_values_bi,t_bi]\n",
    "    \n",
    "    #print table using the function defined before\n",
    "    print_table([\"coefficient\",\"value\",\"p-value\", \"t-statistic\"],table_values);\n",
    "\n",
    "def mse (regression, X, y):\n",
    "    mean_sq_err = squared_error(regression, X, y) / len(X);\n",
    "    return mean_sq_err;\n",
    "\n",
    "def mcp (mse, regression, X, y):\n",
    "    P = len(X[0]);\n",
    "    N = len(X);\n",
    "    sq_err = squared_error(regression,X, y);\n",
    "    mcp = (sq_err / mse) - N + 2*P;\n",
    "    return mcp[0];\n",
    "\n",
    "#returns the indices of the variables of X which we keep according to forward selection\n",
    "def forward_selection(X,y):\n",
    "    reg = sk_lm.LinearRegression();\n",
    "    reg.fit(X,y);\n",
    "    #The mean squared error of the full model is an estimator of the\n",
    "    #variance of the full model\n",
    "    mse_full = mse(reg,X,y);\n",
    "    print(\"\\nMean squared error full model:\", mse_full,\"\\n\");\n",
    "\n",
    "    mcps = [];\n",
    "    X = np.array(X);\n",
    "    \n",
    "    #number of input variables\n",
    "    num_variables = len(X[0]);\n",
    "    \n",
    "    #We keep track of the indices of X which we did not use yet for our regression model\n",
    "    #In the beginning, this is a list of all indices of X, and we remove the indices\n",
    "    #by iteratively selecting the X_i which reduces the squared error most\n",
    "    remaining_indices = list(range(0,num_variables));\n",
    "    #At the same time, we keep track of the order of the indices of the best X_i\n",
    "    #(which reduced the squared error most)\n",
    "    max_indices = [];\n",
    "    \n",
    "    print(\"Starting foward selection...\");\n",
    "    \n",
    "    for j in range(0, num_variables):\n",
    "        min_error = 0;\n",
    "        max_index = 0;\n",
    "        max_mcp = 0;\n",
    "        #we iterate through the remaining indices\n",
    "        for k in range(0, len(remaining_indices)):\n",
    "            i = remaining_indices[k];\n",
    "            #clone max_indices before adding i\n",
    "            test_max_indices = list(max_indices);\n",
    "            #now add the current index to use it for regression\n",
    "            test_max_indices.append(i);\n",
    "            #we now have an array with the indices we want to use for the regression\n",
    "            #and make it a numpy array, which allows us to select these columns from X\n",
    "            test_indices = np.array(test_max_indices);\n",
    "            #Now we select the columns with the test_indices from X\n",
    "            test_X = X[:, test_indices];\n",
    "            #we train the regression\n",
    "            test_reg = sk_lm.LinearRegression();\n",
    "            test_reg.fit(test_X,y);\n",
    "            #We calculate the squared error and Mallows CP\n",
    "            test_se = squared_error(test_reg, test_X, y);\n",
    "            test_mcp = mcp(mse_full, test_reg, test_X, y);       \n",
    "            #The first index is the best seen so far (since it's the first)\n",
    "            #or the index which has a lower error than min_error\n",
    "            if (k == 0 | (test_se < min_error)):\n",
    "                min_error = test_se;\n",
    "                max_index = i;\n",
    "                max_mcp = test_mcp;\n",
    "        #now we found the index which minimised the error\n",
    "        #we add it to the list of best indices\n",
    "        max_indices.append(max_index);\n",
    "        #we remove it from the remaining indices\n",
    "        remaining_indices.remove(max_index);\n",
    "        #we add the calculated Mallow CP of this model\n",
    "        mcps.append(max_mcp);\n",
    "        print(\"best indices at iteration \", (j+1), \":\", max_indices);\n",
    "\n",
    "    print(\"...done.\\n\")\n",
    "    #We now have a list of Mallows CP for each step\n",
    "    print(\"Mallow's CPs of best indices:\", mcps);\n",
    "\n",
    "    #we find the index of the model with the minimum Mallows CP\n",
    "    miniumum_mcp_index = np.array(mcps).argmin();\n",
    "\n",
    "    #we use all indices till the one with the minimum Mallows CP\n",
    "    used_X = max_indices[0:miniumum_mcp_index+1];\n",
    "\n",
    "        #We now have a list of the respective best indices of each step\n",
    "    print(\"X column indices found by forward selection:\", used_X,\"\\n\");\n",
    "    \n",
    "    #now we know which X we keep\n",
    "    optimal_X = X[:, used_X];\n",
    "    \n",
    "    #we return the optimal variable indices\n",
    "    return used_X;"
   ]
  },
  {
   "cell_type": "markdown",
   "metadata": {},
   "source": [
    "#### Dataset\n",
    "\n",
    "We load the data into a data frame:\n",
    "\n",
    "* A1 average annual precipitation in inches\n",
    "* A2 average January temperature in degrees Fahrenheit\n",
    "* A3 average July temperature in degrees Fahrenheit\n",
    "* A4 percent of 1960 SMSA population 65 years old or older\n",
    "* A5 household size, 1960\n",
    "* A6 schooling for persons over 22\n",
    "* A7 household with full kitchens\n",
    "* A8 population per square mile in urbanized areas\n",
    "* A9 percent nonwhite population\n",
    "* A10 percent office workers\n",
    "* A11 poor families (annual income under $3000)\n",
    "* A12 relative pollution potential of hydrocarbons\n",
    "* A13 relative pollution potential of oxides of Nitrogen\n",
    "* A14 relative pollution of Sulfur Dioxide\n",
    "* A15 percent relative humidity, annual average at 1pm.\n",
    "* B death rate\n",
    "\n",
    "**1)** Create an instance of the *pd.DataFrame()* class and load the data from the comma separated value file using the *from_csv()* function.\n",
    "\n",
    "Print the head of the dataframe using *print()* and the method *head()* from the DataFrame."
   ]
  },
  {
   "cell_type": "code",
   "execution_count": 5,
   "metadata": {
    "collapsed": false
   },
   "outputs": [
    {
     "name": "stdout",
     "output_type": "stream",
     "text": [
      "A1  A2  A3    A4    A5    A6    A7    A8    A9   A10   A11  A12  A13  A14  A15         B\n",
      "                                                                                        \n",
      "36  27  71   8.1  3.34  11.4  81.5  3243   8.8  42.6  11.7   21   15   59   59   921.870\n",
      "35  23  72  11.1  3.14  11.0  78.8  4281   3.6  50.7  14.4    8   10   39   57   997.875\n",
      "44  29  74  10.4  3.21   9.8  81.6  4260   0.8  39.4  12.4    6    6   33   54   962.354\n",
      "47  45  79   6.5  3.41  11.1  77.5  3125  27.1  50.2  20.6   18    8   24   56   982.291\n",
      "43  35  77   7.6  3.44   9.6  84.6  6441  24.4  43.7  14.3   43   38  206   55  1071.289\n"
     ]
    }
   ],
   "source": [
    "df_death = pd.DataFrame();\n",
    "df_death = df_death.from_csv(\"data/death.csv\");\n",
    "\n",
    "print(df_death.head().to_string(index=False));"
   ]
  },
  {
   "cell_type": "markdown",
   "metadata": {},
   "source": [
    "**2)** Create input data X which contains all columns of the dataframe except \"B\", and a predicted variable y which is the column \"B\". Use the method *drop(\"COLUMN_NAME\", axis=1)* from the DataFrame to drop a column."
   ]
  },
  {
   "cell_type": "code",
   "execution_count": 28,
   "metadata": {
    "collapsed": true
   },
   "outputs": [],
   "source": [
    "X_death = df_death.drop(\"B\", axis=1);\n",
    "y_death = df_death[\"B\"];"
   ]
  },
  {
   "cell_type": "markdown",
   "metadata": {},
   "source": [
    "**3)** Use the *corr()* method of the dataframe to get the correlation matrix of X and print it. Check for strong correlations >0.9 or <-0.9."
   ]
  },
  {
   "cell_type": "code",
   "execution_count": 29,
   "metadata": {
    "collapsed": false
   },
   "outputs": [
    {
     "data": {
      "image/png": "[encoded data removed]",
      "text/plain": [
       "<matplotlib.figure.Figure at 0x7f20a45f9208>"
      ]
     },
     "metadata": {},
     "output_type": "display_data"
    },
    {
     "name": "stdout",
     "output_type": "stream",
     "text": [
      "           A1        A2        A3        A4        A5        A6        A7  \\\n",
      "A1   1.000000  0.111138  0.503513  0.101113  0.263444 -0.490425 -0.490759   \n",
      "A2   0.111138  1.000000  0.313156 -0.294481 -0.200240 -0.066462 -0.052264   \n",
      "A3   0.503513  0.313156  1.000000 -0.433984  0.261230 -0.236587 -0.416351   \n",
      "A4   0.101113 -0.294481 -0.433984  1.000000 -0.509087 -0.138862  0.065010   \n",
      "A5   0.263444 -0.200240  0.261230 -0.509087  1.000000 -0.395075 -0.410590   \n",
      "A6  -0.490425 -0.066462 -0.236587 -0.138862 -0.395075  1.000000  0.552237   \n",
      "A7  -0.490759 -0.052264 -0.416351  0.065010 -0.410590  0.552237  1.000000   \n",
      "A8  -0.003515  0.198428 -0.059642  0.161991 -0.184332 -0.243883  0.181881   \n",
      "A9   0.413649  0.329613  0.576679 -0.637457  0.418899 -0.208679 -0.410186   \n",
      "A10 -0.297254  0.143010 -0.019936 -0.119742 -0.423461  0.702990  0.338238   \n",
      "A11  0.506585  0.482197  0.617885 -0.309771  0.259904 -0.403338 -0.680680   \n",
      "A12 -0.531760  0.274927 -0.357213 -0.020486 -0.388205  0.286835  0.386767   \n",
      "A13 -0.490758  0.248326 -0.342998  0.000912 -0.363140  0.226264  0.352848   \n",
      "A14 -0.106924 -0.096869 -0.100446  0.017248 -0.004084 -0.234346  0.117952   \n",
      "A15 -0.045308  0.056475 -0.435176  0.103759 -0.136590  0.140478  0.109326   \n",
      "\n",
      "           A8        A9       A10       A11       A12       A13       A14  \\\n",
      "A1  -0.003515  0.413649 -0.297254  0.506585 -0.531760 -0.490758 -0.106924   \n",
      "A2   0.198428  0.329613  0.143010  0.482197  0.274927  0.248326 -0.096869   \n",
      "A3  -0.059642  0.576679 -0.019936  0.617885 -0.357213 -0.342998 -0.100446   \n",
      "A4   0.161991 -0.637457 -0.119742 -0.309771 -0.020486  0.000912  0.017248   \n",
      "A5  -0.184332  0.418899 -0.423461  0.259904 -0.388205 -0.363140 -0.004084   \n",
      "A6  -0.243883 -0.208679  0.702990 -0.403338  0.286835  0.226264 -0.234346   \n",
      "A7   0.181881 -0.410186  0.338238 -0.680680  0.386767  0.352848  0.117952   \n",
      "A8   1.000000 -0.005524 -0.031207 -0.162945  0.120282  0.165985  0.432086   \n",
      "A9  -0.005524  1.000000 -0.002149  0.705383 -0.026002  0.010097  0.159113   \n",
      "A10 -0.031207 -0.002149  1.000000 -0.185193  0.203699  0.161960 -0.067223   \n",
      "A11 -0.162945  0.705383 -0.185193  1.000000 -0.129784 -0.110944 -0.096483   \n",
      "A12  0.120282 -0.026002  0.203699 -0.129784  1.000000  0.984034  0.282296   \n",
      "A13  0.165985  0.010097  0.161960 -0.110944  0.984034  1.000000  0.410084   \n",
      "A14  0.432086  0.159113 -0.067223 -0.096483  0.282296  0.410084  1.000000   \n",
      "A15 -0.092495 -0.088480  0.028818 -0.122409 -0.015025 -0.039677 -0.089983   \n",
      "\n",
      "          A15  \n",
      "A1  -0.045308  \n",
      "A2   0.056475  \n",
      "A3  -0.435176  \n",
      "A4   0.103759  \n",
      "A5  -0.136590  \n",
      "A6   0.140478  \n",
      "A7   0.109326  \n",
      "A8  -0.092495  \n",
      "A9  -0.088480  \n",
      "A10  0.028818  \n",
      "A11 -0.122409  \n",
      "A12 -0.015025  \n",
      "A13 -0.039677  \n",
      "A14 -0.089983  \n",
      "A15  1.000000  \n"
     ]
    }
   ],
   "source": [
    "corr_matrix=X_death.corr();\n",
    "plt.imshow(corr_matrix,interpolation='none',clim=(-1, 1));\n",
    "plt.colorbar();\n",
    "plt.show();\n",
    "\n",
    "print(corr_matrix)"
   ]
  },
  {
   "cell_type": "markdown",
   "metadata": {},
   "source": [
    "**4)** Remove strongly correlated values using *drop()*."
   ]
  },
  {
   "cell_type": "code",
   "execution_count": 30,
   "metadata": {
    "collapsed": true
   },
   "outputs": [],
   "source": [
    "X_death_reg = X_death.drop(\"A13\", axis=1);"
   ]
  },
  {
   "cell_type": "markdown",
   "metadata": {},
   "source": [
    "**5)** Standardise the input and output values using the method *skl.preprocessing.scale()*\n",
    "\n",
    "**6)** Instantiate the class *skl.linear_model.LinearRegression()* and use the *fit()* method to train the model."
   ]
  },
  {
   "cell_type": "code",
   "execution_count": 31,
   "metadata": {
    "collapsed": false
   },
   "outputs": [
    {
     "data": {
      "image/png": "[encoded data removed]",
      "text/plain": [
       "<matplotlib.figure.Figure at 0x7f20a4763fd0>"
      ]
     },
     "metadata": {},
     "output_type": "display_data"
    },
    {
     "name": "stdout",
     "output_type": "stream",
     "text": [
      "coefficient     value   p-value  t-statistic\n",
      "    beta 1  0.345976  0.016835     2.482701\n",
      "    beta 2 -0.375747  0.006761    -2.839414\n",
      "    beta 3 -0.226633  0.112567    -1.618393\n",
      "    beta 4 -0.243584  0.189600    -1.331900\n",
      "    beta 5 -0.224218  0.112527    -1.618577\n",
      "    beta 6 -0.236228  0.121719    -1.577352\n",
      "    beta 7 -0.138678  0.265861    -1.126654\n",
      "    beta 8  0.218477  0.032760     2.202957\n",
      "    beta 9  0.552134  0.005307     2.930037\n",
      "   beta 10 -0.020607  0.858706    -0.179045\n",
      "   beta 11  0.011757  0.947371     0.066378\n",
      "   beta 12 -0.000300  0.998087    -0.002411\n",
      "   beta 13  0.186953  0.057951     1.945719\n",
      "   beta 14  0.015173  0.872370     0.161567\n"
     ]
    }
   ],
   "source": [
    "# Standardise the input and output values\n",
    "X_death_std = skl.preprocessing.scale(X_death_reg);\n",
    "y_death_std = skl.preprocessing.scale(y_death);\n",
    "\n",
    "# Train the regression\n",
    "std_reg = skl.linear_model.LinearRegression();\n",
    "std_reg.fit(X_death_std,y_death_std);\n",
    "\n",
    "\n",
    "# Get column names as list\n",
    "column_names = list(X_death_reg.columns.values);\n",
    "x_pos = range(2,len(column_names)+2)\n",
    "\n",
    "# Print bars\n",
    "plt.bar(x_pos,std_reg.coef_, align='center');\n",
    "plt.xticks(x_pos,column_names,rotation='vertical');\n",
    "plt.show();\n",
    "\n",
    "# Print significance test\n",
    "significance_reg(std_reg,X_death_std,y_death_std);"
   ]
  },
  {
   "cell_type": "markdown",
   "metadata": {},
   "source": [
    "**7)** Split *X* and *y* into a training and test set. Use [:-test_size], [-test_size:] to select all the variables but the last *test_size* rows and the last *test_size* rows respectively. Then fit the regression on the training data."
   ]
  },
  {
   "cell_type": "code",
   "execution_count": 36,
   "metadata": {
    "collapsed": false
   },
   "outputs": [],
   "source": [
    "test_size = 20;\n",
    "\n",
    "# Split the data into training/testing sets\n",
    "X_death_reg_train = X_death_reg.values[:-test_size];\n",
    "X_death_reg_test = X_death_reg.values[-test_size:];\n",
    "\n",
    "# Split the targets into training/testing sets\n",
    "y_death_train = y_death.values[:-test_size];\n",
    "y_death_test = y_death.values[-test_size:];\n",
    "\n",
    "# Create linear regression object\n",
    "reg_death = sk_lm.LinearRegression()\n",
    "\n",
    "# Train the model using the training sets\n",
    "reg_death.fit(X_death_reg_train, y_death_train);"
   ]
  },
  {
   "cell_type": "markdown",
   "metadata": {},
   "source": [
    "**8)** We print the learned regression coefficients."
   ]
  },
  {
   "cell_type": "code",
   "execution_count": 37,
   "metadata": {
    "collapsed": false
   },
   "outputs": [
    {
     "data": {
      "image/png": "[encoded data removed]",
      "text/plain": [
       "<matplotlib.figure.Figure at 0x7f20a453e278>"
      ]
     },
     "metadata": {},
     "output_type": "display_data"
    },
    {
     "name": "stdout",
     "output_type": "stream",
     "text": [
      "Mean squared error:  [ 2317.887492]\n"
     ]
    }
   ],
   "source": [
    "# Get column names as list\n",
    "column_names = list(X_death_reg.columns.values);\n",
    "x_pos = range(2,len(column_names)+2)\n",
    "\n",
    "# Print bars\n",
    "plt.bar(x_pos,reg_death.coef_, align='center');\n",
    "plt.xticks(x_pos,column_names,rotation='vertical');\n",
    "plt.show();\n",
    "\n",
    "# The mean squared error\n",
    "print(\"Mean squared error: \", mse(reg_death,X_death_reg_test,y_death_test));"
   ]
  },
  {
   "cell_type": "markdown",
   "metadata": {},
   "source": [
    "**9)** We use forward selection to reduce the input matrix *x* by removing columns to prevent overfitting. \n",
    "Use the *forward_selection()* function defined above to get the indices of columns we keep."
   ]
  },
  {
   "cell_type": "code",
   "execution_count": 38,
   "metadata": {
    "collapsed": false
   },
   "outputs": [
    {
     "name": "stdout",
     "output_type": "stream",
     "text": [
      "\n",
      "Mean squared error full model: [ 790.31692822] \n",
      "\n",
      "Starting foward selection...\n",
      "best indices at iteration  1 : [0]\n",
      "best indices at iteration  2 : [0, 1]\n",
      "best indices at iteration  3 : [0, 1, 3]\n",
      "best indices at iteration  4 : [0, 1, 3, 2]\n",
      "best indices at iteration  5 : [0, 1, 3, 2, 5]\n",
      "best indices at iteration  6 : [0, 1, 3, 2, 5, 4]\n",
      "best indices at iteration  7 : [0, 1, 3, 2, 5, 4, 7]\n",
      "best indices at iteration  8 : [0, 1, 3, 2, 5, 4, 7, 8]\n",
      "best indices at iteration  9 : [0, 1, 3, 2, 5, 4, 7, 8, 6]\n",
      "best indices at iteration  10 : [0, 1, 3, 2, 5, 4, 7, 8, 6, 9]\n",
      "best indices at iteration  11 : [0, 1, 3, 2, 5, 4, 7, 8, 6, 9, 10]\n",
      "best indices at iteration  12 : [0, 1, 3, 2, 5, 4, 7, 8, 6, 9, 10, 12]\n",
      "best indices at iteration  13 : [0, 1, 3, 2, 5, 4, 7, 8, 6, 9, 10, 12, 13]\n",
      "best indices at iteration  14 : [0, 1, 3, 2, 5, 4, 7, 8, 6, 9, 10, 12, 13, 11]\n",
      "...done.\n",
      "\n",
      "Mallow's CPs of best indices: [120.15253257255321, 119.99738601755971, 108.18772629223787, 107.45122392294817, 82.30948534916601, 78.421146904382866, 52.619459809116819, 23.485838727728066, 23.881806313018963, 25.356752169786546, 26.963354521170871, 26.411936935173394, 26.251516401791079, 28.000000000000014]\n",
      "X column indices found by forward selection: [0, 1, 3, 2, 5, 4, 7, 8] \n",
      "\n"
     ]
    }
   ],
   "source": [
    "#We do forward selection of the dataframe values\n",
    "death_idcs = forward_selection(X_death_reg_train,y_death_train);"
   ]
  },
  {
   "cell_type": "markdown",
   "metadata": {},
   "source": [
    "**10)** Learn a new regression using the subset of *X* found by forward selection."
   ]
  },
  {
   "cell_type": "code",
   "execution_count": 39,
   "metadata": {
    "collapsed": false
   },
   "outputs": [
    {
     "data": {
      "image/png": "[encoded data removed]",
      "text/plain": [
       "<matplotlib.figure.Figure at 0x7f20a45b6e48>"
      ]
     },
     "metadata": {},
     "output_type": "display_data"
    },
    {
     "name": "stdout",
     "output_type": "stream",
     "text": [
      "(Mean squared error before forward selection:  [ 2317.887492] )\n",
      "Mean squared error after forward selection:  [ 1115.0269002]\n"
     ]
    }
   ],
   "source": [
    "# Create linear regression object\n",
    "reg_death_fs = sk_lm.LinearRegression()\n",
    "\n",
    "X_death_subset = X_death_reg_train[:,death_idcs];\n",
    "\n",
    "# Train the model using the selected subset of the training sets\n",
    "reg_death_fs.fit(X_death_subset, y_death_train);\n",
    "\n",
    "# Get column names as list, get selected indices\n",
    "column_names_fs = list(X_death_reg.columns.values[death_idcs]);\n",
    "x_pos = range(1,len(column_names_fs)+1)\n",
    "\n",
    "# Print bars\n",
    "plt.bar(x_pos,reg_death_fs.coef_, align='center');\n",
    "plt.xticks(x_pos,column_names,rotation='vertical');\n",
    "plt.show();\n",
    "\n",
    "# The mean squared error\n",
    "print(\"(Mean squared error before forward selection: \", mse(reg_death,X_death_reg_test,y_death_test),\")\");\n",
    "print(\"Mean squared error after forward selection: \", mse(reg_death_fs,X_death_reg_test[:,death_idcs],y_death_test));"
   ]
  }
 ],
 "metadata": {
  "kernelspec": {
   "display_name": "Python 3",
   "language": "python",
   "name": "python3"
  },
  "language_info": {
   "codemirror_mode": {
    "name": "ipython",
    "version": 3
   },
   "file_extension": ".py",
   "mimetype": "text/x-python",
   "name": "python",
   "nbconvert_exporter": "python",
   "pygments_lexer": "ipython3",
   "version": "3.5.2"
  }
 },
 "nbformat": 4,
 "nbformat_minor": 0
}
